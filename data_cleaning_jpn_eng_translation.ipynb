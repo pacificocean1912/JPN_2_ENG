{
 "cells": [
  {
   "cell_type": "markdown",
   "metadata": {},
   "source": [
    "https://towardsdatascience.com/a-comprehensive-guide-to-neural-machine-translation-using-seq2sequence-modelling-using-pytorch-41c9b84ba350"
   ]
  },
  {
   "cell_type": "code",
   "execution_count": 1,
   "metadata": {},
   "outputs": [],
   "source": [
    "#!pip install mecab-python3\n",
    "#!pip install unidic-lite\n",
    "#!pip install --no-binary :all: mecab-python3\n",
    "#!pip install torchtext==0.6.0\n",
    "#!python -m spacy download ja_core_news_sm\n",
    "#!python -m spacy download en_core_web_sm\n",
    "#!python -m spacy link en_core_web_sm en\n",
    "#!python -m spacy link ja_core_news_sm ja\n",
    "#!pip install datasets\n"
   ]
  },
  {
   "cell_type": "markdown",
   "metadata": {},
   "source": [
    "conda create -n rapids-24.06 -c rapidsai -c conda-forge -c nvidia  \\\n",
    "    rapids=24.06 python=3.11 'cuda-version>=12.0,<=12.2' \\\n",
    "    dask-sql jupyterlab dash graphistry tensorflow xarray-spatial 'pytorch=*=*cuda*'"
   ]
  },
  {
   "cell_type": "markdown",
   "metadata": {},
   "source": [
    "load on server"
   ]
  },
  {
   "cell_type": "markdown",
   "metadata": {},
   "source": [
    "#### steps to take to start server\n",
    " * step 1 open Ubuntu\n",
    " * steps 2 run conda init\n",
    " * step 3 run conda activate rapids-24.06\n",
    " * step 4 run jupyter notebook\n",
    " * step 5 (maybe?) run pip install jupyter"
   ]
  },
  {
   "cell_type": "code",
   "execution_count": 2,
   "metadata": {},
   "outputs": [],
   "source": [
    "%load_ext cudf.pandas\n",
    "import cudf.pandas\n",
    "#cudf.pandas.install()\n",
    "import pandas as pd"
   ]
  },
  {
   "cell_type": "code",
   "execution_count": 3,
   "metadata": {},
   "outputs": [],
   "source": [
    "%reload_ext cudf.pandas\n",
    "import cudf.pandas\n"
   ]
  },
  {
   "cell_type": "code",
   "execution_count": 4,
   "metadata": {},
   "outputs": [
    {
     "name": "stderr",
     "output_type": "stream",
     "text": [
      "/tmp/ipykernel_424110/3015446719.py:3: TqdmDeprecationWarning: This function will be removed in tqdm==5.0.0\n",
      "Please use `tqdm.notebook.tqdm` instead of `tqdm.tqdm_notebook`\n",
      "  tqdm().pandas()\n"
     ]
    },
    {
     "data": {
      "application/vnd.jupyter.widget-view+json": {
       "model_id": "cf65449b23bd4b9bb33d2993ac6d8cf6",
       "version_major": 2,
       "version_minor": 0
      },
      "text/plain": [
       "0it [00:00, ?it/s]"
      ]
     },
     "metadata": {},
     "output_type": "display_data"
    },
    {
     "name": "stderr",
     "output_type": "stream",
     "text": [
      "2024-08-19 14:31:58.987351: I tensorflow/core/util/port.cc:113] oneDNN custom operations are on. You may see slightly different numerical results due to floating-point round-off errors from different computation orders. To turn them off, set the environment variable `TF_ENABLE_ONEDNN_OPTS=0`.\n",
      "2024-08-19 14:31:59.018603: E external/local_xla/xla/stream_executor/cuda/cuda_dnn.cc:10575] Unable to register cuDNN factory: Attempting to register factory for plugin cuDNN when one has already been registered\n",
      "2024-08-19 14:31:59.018637: E external/local_xla/xla/stream_executor/cuda/cuda_fft.cc:479] Unable to register cuFFT factory: Attempting to register factory for plugin cuFFT when one has already been registered\n",
      "2024-08-19 14:31:59.020078: E external/local_xla/xla/stream_executor/cuda/cuda_blas.cc:1442] Unable to register cuBLAS factory: Attempting to register factory for plugin cuBLAS when one has already been registered\n",
      "2024-08-19 14:31:59.026053: I tensorflow/core/platform/cpu_feature_guard.cc:210] This TensorFlow binary is optimized to use available CPU instructions in performance-critical operations.\n",
      "To enable the following instructions: SSE4.1 SSE4.2 AVX AVX2 AVX512F AVX512_VNNI FMA, in other operations, rebuild TensorFlow with the appropriate compiler flags.\n"
     ]
    }
   ],
   "source": [
    "import gc\n",
    "from tqdm import tqdm_notebook as tqdm\n",
    "tqdm().pandas()\n",
    "from numpy.random import shuffle\n",
    "#from keras import preprocessing\n",
    "import tensorflow as tf\n",
    "from keras.utils import to_categorical\n",
    "Tokenizer = tf.keras.preprocessing.text.Tokenizer\n",
    "from keras.preprocessing.sequence import pad_sequences\n",
    "\n",
    "\n",
    "from keras.utils import plot_model\n",
    "\n",
    "from keras.layers import Input, Dense, LSTM, Embedding, RepeatVector, TimeDistributed\n",
    "from keras.models import Sequential\n",
    "#from keras.callbacks import ModelCheckpoint\n",
    "\n",
    "from pickle import dump\n",
    "from unicodedata import normalize\n",
    "import cudf\n"
   ]
  },
  {
   "cell_type": "markdown",
   "metadata": {},
   "source": [
    "## load dataset"
   ]
  },
  {
   "cell_type": "code",
   "execution_count": 5,
   "metadata": {},
   "outputs": [
    {
     "data": {
      "text/html": [
       "<div>\n",
       "<style scoped>\n",
       "    .dataframe tbody tr th:only-of-type {\n",
       "        vertical-align: middle;\n",
       "    }\n",
       "\n",
       "    .dataframe tbody tr th {\n",
       "        vertical-align: top;\n",
       "    }\n",
       "\n",
       "    .dataframe thead th {\n",
       "        text-align: right;\n",
       "    }\n",
       "</style>\n",
       "<table border=\"1\" class=\"dataframe\">\n",
       "  <thead>\n",
       "    <tr style=\"text-align: right;\">\n",
       "      <th></th>\n",
       "      <th>text</th>\n",
       "    </tr>\n",
       "  </thead>\n",
       "  <tbody>\n",
       "    <tr>\n",
       "      <th>0</th>\n",
       "      <td>nothing thrills me more than to see kids polli...</td>\n",
       "    </tr>\n",
       "    <tr>\n",
       "      <th>1</th>\n",
       "      <td>do you want to spend all night at the cemetery...</td>\n",
       "    </tr>\n",
       "    <tr>\n",
       "      <th>2</th>\n",
       "      <td>our ships are in attack position.\\t船はもう攻撃発起位置にある。</td>\n",
       "    </tr>\n",
       "    <tr>\n",
       "      <th>3</th>\n",
       "      <td>what about the original sam? huh?\\tオリジナルの サムが居...</td>\n",
       "    </tr>\n",
       "    <tr>\n",
       "      <th>4</th>\n",
       "      <td>even though</td>\n",
       "    </tr>\n",
       "    <tr>\n",
       "      <th>...</th>\n",
       "      <td>...</td>\n",
       "    </tr>\n",
       "    <tr>\n",
       "      <th>2785853</th>\n",
       "      <td>what good would that have done?\\t知って何の意味がある?</td>\n",
       "    </tr>\n",
       "    <tr>\n",
       "      <th>2785854</th>\n",
       "      <td>when ichinosukesan rushed over to ninosukesan....</td>\n",
       "    </tr>\n",
       "    <tr>\n",
       "      <th>2785855</th>\n",
       "      <td>your words are so encouraging.\\tそういった お言葉を力に...。</td>\n",
       "    </tr>\n",
       "    <tr>\n",
       "      <th>2785856</th>\n",
       "      <td>goodbye</td>\n",
       "    </tr>\n",
       "    <tr>\n",
       "      <th>2785857</th>\n",
       "      <td>do you want to hear it?\\t聞きたくなければ言わないけれど。</td>\n",
       "    </tr>\n",
       "  </tbody>\n",
       "</table>\n",
       "<p>2785858 rows × 1 columns</p>\n",
       "</div>"
      ],
      "text/plain": [
       "                                                      text\n",
       "0        nothing thrills me more than to see kids polli...\n",
       "1        do you want to spend all night at the cemetery...\n",
       "2        our ships are in attack position.\\t船はもう攻撃発起位置にある。\n",
       "3        what about the original sam? huh?\\tオリジナルの サムが居...\n",
       "4                                              even though\n",
       "...                                                    ...\n",
       "2785853       what good would that have done?\\t知って何の意味がある?\n",
       "2785854  when ichinosukesan rushed over to ninosukesan....\n",
       "2785855   your words are so encouraging.\\tそういった お言葉を力に...。\n",
       "2785856                                            goodbye\n",
       "2785857          do you want to hear it?\\t聞きたくなければ言わないけれど。\n",
       "\n",
       "[2785858 rows x 1 columns]"
      ]
     },
     "execution_count": 5,
     "metadata": {},
     "output_type": "execute_result"
    }
   ],
   "source": [
    "df=cudf.read_csv(\"senior project/train\")\n",
    "needtorow=df.columns[0]\n",
    "df=df.rename(columns={needtorow:'text'})\n",
    "df"
   ]
  },
  {
   "cell_type": "code",
   "execution_count": 6,
   "metadata": {},
   "outputs": [
    {
     "data": {
      "text/html": [
       "<div>\n",
       "<style scoped>\n",
       "    .dataframe tbody tr th:only-of-type {\n",
       "        vertical-align: middle;\n",
       "    }\n",
       "\n",
       "    .dataframe tbody tr th {\n",
       "        vertical-align: top;\n",
       "    }\n",
       "\n",
       "    .dataframe thead th {\n",
       "        text-align: right;\n",
       "    }\n",
       "</style>\n",
       "<table border=\"1\" class=\"dataframe\">\n",
       "  <thead>\n",
       "    <tr style=\"text-align: right;\">\n",
       "      <th></th>\n",
       "      <th>eng</th>\n",
       "      <th>jpn</th>\n",
       "    </tr>\n",
       "  </thead>\n",
       "  <tbody>\n",
       "    <tr>\n",
       "      <th>0</th>\n",
       "      <td>nothing thrills me more than to see kids polli...</td>\n",
       "      <td>生徒がお互いの受精じゃなくて 植物の受粉に熱中してくれてるよ!</td>\n",
       "    </tr>\n",
       "    <tr>\n",
       "      <th>1</th>\n",
       "      <td>do you want to spend all night at the cemetery...</td>\n",
       "      <td>この雨の中 一晩中 墓地にいたい?</td>\n",
       "    </tr>\n",
       "    <tr>\n",
       "      <th>2</th>\n",
       "      <td>our ships are in attack position.</td>\n",
       "      <td>船はもう攻撃発起位置にある。</td>\n",
       "    </tr>\n",
       "    <tr>\n",
       "      <th>3</th>\n",
       "      <td>what about the original sam? huh?</td>\n",
       "      <td>オリジナルの サムが居るんだぞ</td>\n",
       "    </tr>\n",
       "    <tr>\n",
       "      <th>4</th>\n",
       "      <td>we will now begin the emergency captains' meet...</td>\n",
       "      <td>これより 緊急隊首会を行う。</td>\n",
       "    </tr>\n",
       "    <tr>\n",
       "      <th>...</th>\n",
       "      <td>...</td>\n",
       "      <td>...</td>\n",
       "    </tr>\n",
       "    <tr>\n",
       "      <th>2007888</th>\n",
       "      <td>that citizens and city governments around the ...</td>\n",
       "      <td>知る必要のある</td>\n",
       "    </tr>\n",
       "    <tr>\n",
       "      <th>2007889</th>\n",
       "      <td>what good would that have done?</td>\n",
       "      <td>知って何の意味がある?</td>\n",
       "    </tr>\n",
       "    <tr>\n",
       "      <th>2007890</th>\n",
       "      <td>when ichinosukesan rushed over to ninosukesan..</td>\n",
       "      <td>二之助さんに駆け寄った 一之助さんは</td>\n",
       "    </tr>\n",
       "    <tr>\n",
       "      <th>2007891</th>\n",
       "      <td>your words are so encouraging.</td>\n",
       "      <td>そういった お言葉を力に...。</td>\n",
       "    </tr>\n",
       "    <tr>\n",
       "      <th>2007892</th>\n",
       "      <td>do you want to hear it?</td>\n",
       "      <td>聞きたくなければ言わないけれど。</td>\n",
       "    </tr>\n",
       "  </tbody>\n",
       "</table>\n",
       "<p>2007893 rows × 2 columns</p>\n",
       "</div>"
      ],
      "text/plain": [
       "                                                       eng  \\\n",
       "0        nothing thrills me more than to see kids polli...   \n",
       "1        do you want to spend all night at the cemetery...   \n",
       "2                        our ships are in attack position.   \n",
       "3                        what about the original sam? huh?   \n",
       "4        we will now begin the emergency captains' meet...   \n",
       "...                                                    ...   \n",
       "2007888  that citizens and city governments around the ...   \n",
       "2007889                    what good would that have done?   \n",
       "2007890    when ichinosukesan rushed over to ninosukesan..   \n",
       "2007891                     your words are so encouraging.   \n",
       "2007892                            do you want to hear it?   \n",
       "\n",
       "                                     jpn  \n",
       "0        生徒がお互いの受精じゃなくて 植物の受粉に熱中してくれてるよ!  \n",
       "1                      この雨の中 一晩中 墓地にいたい?  \n",
       "2                         船はもう攻撃発起位置にある。  \n",
       "3                        オリジナルの サムが居るんだぞ  \n",
       "4                         これより 緊急隊首会を行う。  \n",
       "...                                  ...  \n",
       "2007888                          知る必要のある  \n",
       "2007889                      知って何の意味がある?  \n",
       "2007890               二之助さんに駆け寄った 一之助さんは  \n",
       "2007891                 そういった お言葉を力に...。  \n",
       "2007892                 聞きたくなければ言わないけれど。  \n",
       "\n",
       "[2007893 rows x 2 columns]"
      ]
     },
     "execution_count": 6,
     "metadata": {},
     "output_type": "execute_result"
    }
   ],
   "source": [
    "df=df.dropna()\n",
    "df[[\"eng\",\"jpn\"]]=df['text'].str.split('\\t',n=1, expand=True)\n",
    "df=df.drop(['text'], axis=1)\n",
    "df=df.dropna()\n",
    "df=df.reset_index(drop=True)\n",
    "df"
   ]
  },
  {
   "cell_type": "markdown",
   "metadata": {},
   "source": [
    "## cleaning data"
   ]
  },
  {
   "cell_type": "code",
   "execution_count": 7,
   "metadata": {},
   "outputs": [
    {
     "data": {
      "text/html": [
       "<div>\n",
       "<style scoped>\n",
       "    .dataframe tbody tr th:only-of-type {\n",
       "        vertical-align: middle;\n",
       "    }\n",
       "\n",
       "    .dataframe tbody tr th {\n",
       "        vertical-align: top;\n",
       "    }\n",
       "\n",
       "    .dataframe thead th {\n",
       "        text-align: right;\n",
       "    }\n",
       "</style>\n",
       "<table border=\"1\" class=\"dataframe\">\n",
       "  <thead>\n",
       "    <tr style=\"text-align: right;\">\n",
       "      <th></th>\n",
       "      <th>eng</th>\n",
       "      <th>jpn</th>\n",
       "    </tr>\n",
       "  </thead>\n",
       "  <tbody>\n",
       "    <tr>\n",
       "      <th>0</th>\n",
       "      <td>&lt;sos&gt;nothing thrills me more than to see kids ...</td>\n",
       "      <td>&lt;sos&gt;生徒がお互いの受精じゃなくて 植物の受粉に熱中してくれてるよ</td>\n",
       "    </tr>\n",
       "    <tr>\n",
       "      <th>1</th>\n",
       "      <td>&lt;sos&gt;do you want to spend all night at the cem...</td>\n",
       "      <td>&lt;sos&gt;この雨の中 一晩中 墓地にいたいquestionmark</td>\n",
       "    </tr>\n",
       "    <tr>\n",
       "      <th>2</th>\n",
       "      <td>&lt;sos&gt;our ships are in attack position</td>\n",
       "      <td>&lt;sos&gt;船はもう攻撃発起位置にある</td>\n",
       "    </tr>\n",
       "    <tr>\n",
       "      <th>3</th>\n",
       "      <td>&lt;sos&gt;what about the original sam questionmark ...</td>\n",
       "      <td>&lt;sos&gt;オリジナルの サムが居るんだぞ</td>\n",
       "    </tr>\n",
       "    <tr>\n",
       "      <th>4</th>\n",
       "      <td>&lt;sos&gt;we will now begin the emergency captains ...</td>\n",
       "      <td>&lt;sos&gt;これより 緊急隊首会を行う</td>\n",
       "    </tr>\n",
       "    <tr>\n",
       "      <th>...</th>\n",
       "      <td>...</td>\n",
       "      <td>...</td>\n",
       "    </tr>\n",
       "    <tr>\n",
       "      <th>2007888</th>\n",
       "      <td>&lt;sos&gt;that citizens and city governments around...</td>\n",
       "      <td>&lt;sos&gt;知る必要のある</td>\n",
       "    </tr>\n",
       "    <tr>\n",
       "      <th>2007889</th>\n",
       "      <td>&lt;sos&gt;what good would that have done questionmark</td>\n",
       "      <td>&lt;sos&gt;知って何の意味があるquestionmark</td>\n",
       "    </tr>\n",
       "    <tr>\n",
       "      <th>2007890</th>\n",
       "      <td>&lt;sos&gt;when ichinosukesan rushed over to ninosuk...</td>\n",
       "      <td>&lt;sos&gt;二之助さんに駆け寄った 一之助さんは</td>\n",
       "    </tr>\n",
       "    <tr>\n",
       "      <th>2007891</th>\n",
       "      <td>&lt;sos&gt;your words are so encouraging</td>\n",
       "      <td>&lt;sos&gt;そういった お言葉を力に</td>\n",
       "    </tr>\n",
       "    <tr>\n",
       "      <th>2007892</th>\n",
       "      <td>&lt;sos&gt;do you want to hear it questionmark</td>\n",
       "      <td>&lt;sos&gt;聞きたくなければ言わないけれど</td>\n",
       "    </tr>\n",
       "  </tbody>\n",
       "</table>\n",
       "<p>2007893 rows × 2 columns</p>\n",
       "</div>"
      ],
      "text/plain": [
       "                                                       eng  \\\n",
       "0        <sos>nothing thrills me more than to see kids ...   \n",
       "1        <sos>do you want to spend all night at the cem...   \n",
       "2                   <sos>our ships are in attack position    \n",
       "3        <sos>what about the original sam questionmark ...   \n",
       "4        <sos>we will now begin the emergency captains ...   \n",
       "...                                                    ...   \n",
       "2007888  <sos>that citizens and city governments around...   \n",
       "2007889  <sos>what good would that have done questionmark    \n",
       "2007890  <sos>when ichinosukesan rushed over to ninosuk...   \n",
       "2007891                <sos>your words are so encouraging    \n",
       "2007892          <sos>do you want to hear it questionmark    \n",
       "\n",
       "                                         jpn  \n",
       "0        <sos>生徒がお互いの受精じゃなくて 植物の受粉に熱中してくれてるよ  \n",
       "1          <sos>この雨の中 一晩中 墓地にいたいquestionmark  \n",
       "2                         <sos>船はもう攻撃発起位置にある  \n",
       "3                       <sos>オリジナルの サムが居るんだぞ  \n",
       "4                         <sos>これより 緊急隊首会を行う  \n",
       "...                                      ...  \n",
       "2007888                         <sos>知る必要のある  \n",
       "2007889          <sos>知って何の意味があるquestionmark  \n",
       "2007890              <sos>二之助さんに駆け寄った 一之助さんは  \n",
       "2007891                    <sos>そういった お言葉を力に  \n",
       "2007892                 <sos>聞きたくなければ言わないけれど  \n",
       "\n",
       "[2007893 rows x 2 columns]"
      ]
     },
     "execution_count": 7,
     "metadata": {},
     "output_type": "execute_result"
    }
   ],
   "source": [
    "import numpy as np\n",
    "import re\n",
    "english_column = []\n",
    "for i in df['eng'].values_host:\n",
    "    i=i.replace(\"?\",\" questionmark \").lower()\n",
    "    i=re.sub(r\"(@\\[A-Za-z0-9]+)|([^0-9A-Za-z \\t])|(\\w+:\\/\\/\\S+)|^rt|http.\", \" \", i)\n",
    "    i=i.replace(\" t \",\" not \")\n",
    "    i=i.replace(\" ll \",\" will \")\n",
    "    i=i.replace(\" d \",\" had \")\n",
    "    i=i.replace(\" m \",\" am \")\n",
    "    i=i.replace(\" ve \",\" have \")\n",
    "    i=i.replace(\" s \",\" is \")\n",
    "    i=i.replace(\" re \",\" have \")\n",
    "    i=i.replace(\"  \",\" \")\n",
    "    i='<sos>'+i\n",
    "    english_column.append(i)\n",
    "japanese_column=[]\n",
    "for i in df['jpn'].values_host:\n",
    "    list_of_syntax=[\"。\",\".\",\"!\",\"(\",\")\",\"・\",\"“\"]\n",
    "    i=i.replace(\"?\",\"questionmark\")\n",
    "    for j in list_of_syntax:\n",
    "        i=i.replace(j,\"\")\n",
    "     \n",
    "    i='<sos>'+i\n",
    "    japanese_column.append(i)    \n",
    "df['eng']=english_column\n",
    "df['jpn']=japanese_column\n",
    "df"
   ]
  },
  {
   "cell_type": "code",
   "execution_count": 8,
   "metadata": {},
   "outputs": [],
   "source": [
    "import MeCab\n",
    "\n",
    "def jpnsplit(str,wakati):\n",
    "    return wakati.parse(str).split()\n"
   ]
  },
  {
   "cell_type": "code",
   "execution_count": 9,
   "metadata": {},
   "outputs": [
    {
     "data": {
      "text/html": [
       "<div>\n",
       "<style scoped>\n",
       "    .dataframe tbody tr th:only-of-type {\n",
       "        vertical-align: middle;\n",
       "    }\n",
       "\n",
       "    .dataframe tbody tr th {\n",
       "        vertical-align: top;\n",
       "    }\n",
       "\n",
       "    .dataframe thead th {\n",
       "        text-align: right;\n",
       "    }\n",
       "</style>\n",
       "<table border=\"1\" class=\"dataframe\">\n",
       "  <thead>\n",
       "    <tr style=\"text-align: right;\">\n",
       "      <th></th>\n",
       "      <th>eng</th>\n",
       "      <th>jpn</th>\n",
       "    </tr>\n",
       "  </thead>\n",
       "  <tbody>\n",
       "    <tr>\n",
       "      <th>0</th>\n",
       "      <td>&lt;sos&gt;nothing thrills me more than to see kids ...</td>\n",
       "      <td>[&lt;, sos, &gt;, 生徒, が, お, 互い, の, 受精, じゃ, なく, て, 植物...</td>\n",
       "    </tr>\n",
       "    <tr>\n",
       "      <th>1</th>\n",
       "      <td>&lt;sos&gt;do you want to spend all night at the cem...</td>\n",
       "      <td>[&lt;, sos, &gt;, この, 雨, の, 中, 一, 晩, 中, 墓地, に, い, たい...</td>\n",
       "    </tr>\n",
       "    <tr>\n",
       "      <th>2</th>\n",
       "      <td>&lt;sos&gt;our ships are in attack position</td>\n",
       "      <td>[&lt;, sos, &gt;, 船, は, もう, 攻撃, 発起, 位置, に, ある]</td>\n",
       "    </tr>\n",
       "    <tr>\n",
       "      <th>3</th>\n",
       "      <td>&lt;sos&gt;what about the original sam questionmark ...</td>\n",
       "      <td>[&lt;, sos, &gt;, オリジナル, の, サム, が, 居る, ん, だ, ぞ]</td>\n",
       "    </tr>\n",
       "    <tr>\n",
       "      <th>4</th>\n",
       "      <td>&lt;sos&gt;we will now begin the emergency captains ...</td>\n",
       "      <td>[&lt;, sos, &gt;, これ, より, 緊急, 隊, 首, 会, を, 行う]</td>\n",
       "    </tr>\n",
       "    <tr>\n",
       "      <th>...</th>\n",
       "      <td>...</td>\n",
       "      <td>...</td>\n",
       "    </tr>\n",
       "    <tr>\n",
       "      <th>2007888</th>\n",
       "      <td>&lt;sos&gt;that citizens and city governments around...</td>\n",
       "      <td>[&lt;, sos, &gt;, 知る, 必要, の, ある]</td>\n",
       "    </tr>\n",
       "    <tr>\n",
       "      <th>2007889</th>\n",
       "      <td>&lt;sos&gt;what good would that have done questionmark</td>\n",
       "      <td>[&lt;, sos, &gt;, 知っ, て, 何, の, 意味, が, ある, questionmark]</td>\n",
       "    </tr>\n",
       "    <tr>\n",
       "      <th>2007890</th>\n",
       "      <td>&lt;sos&gt;when ichinosukesan rushed over to ninosuk...</td>\n",
       "      <td>[&lt;, sos, &gt;, 二, 之, 助, さん, に, 駆け寄っ, た, 一之助, さん, は]</td>\n",
       "    </tr>\n",
       "    <tr>\n",
       "      <th>2007891</th>\n",
       "      <td>&lt;sos&gt;your words are so encouraging</td>\n",
       "      <td>[&lt;, sos, &gt;, そう, いっ, た, お, 言葉, を, 力, に]</td>\n",
       "    </tr>\n",
       "    <tr>\n",
       "      <th>2007892</th>\n",
       "      <td>&lt;sos&gt;do you want to hear it questionmark</td>\n",
       "      <td>[&lt;, sos, &gt;, 聞き, たく, なけれ, ば, 言わ, ない, けれど]</td>\n",
       "    </tr>\n",
       "  </tbody>\n",
       "</table>\n",
       "<p>2007893 rows × 2 columns</p>\n",
       "</div>"
      ],
      "text/plain": [
       "                                                       eng  \\\n",
       "0        <sos>nothing thrills me more than to see kids ...   \n",
       "1        <sos>do you want to spend all night at the cem...   \n",
       "2                   <sos>our ships are in attack position    \n",
       "3        <sos>what about the original sam questionmark ...   \n",
       "4        <sos>we will now begin the emergency captains ...   \n",
       "...                                                    ...   \n",
       "2007888  <sos>that citizens and city governments around...   \n",
       "2007889  <sos>what good would that have done questionmark    \n",
       "2007890  <sos>when ichinosukesan rushed over to ninosuk...   \n",
       "2007891                <sos>your words are so encouraging    \n",
       "2007892          <sos>do you want to hear it questionmark    \n",
       "\n",
       "                                                       jpn  \n",
       "0        [<, sos, >, 生徒, が, お, 互い, の, 受精, じゃ, なく, て, 植物...  \n",
       "1        [<, sos, >, この, 雨, の, 中, 一, 晩, 中, 墓地, に, い, たい...  \n",
       "2                 [<, sos, >, 船, は, もう, 攻撃, 発起, 位置, に, ある]  \n",
       "3                [<, sos, >, オリジナル, の, サム, が, 居る, ん, だ, ぞ]  \n",
       "4                  [<, sos, >, これ, より, 緊急, 隊, 首, 会, を, 行う]  \n",
       "...                                                    ...  \n",
       "2007888                         [<, sos, >, 知る, 必要, の, ある]  \n",
       "2007889  [<, sos, >, 知っ, て, 何, の, 意味, が, ある, questionmark]  \n",
       "2007890   [<, sos, >, 二, 之, 助, さん, に, 駆け寄っ, た, 一之助, さん, は]  \n",
       "2007891             [<, sos, >, そう, いっ, た, お, 言葉, を, 力, に]  \n",
       "2007892           [<, sos, >, 聞き, たく, なけれ, ば, 言わ, ない, けれど]  \n",
       "\n",
       "[2007893 rows x 2 columns]"
      ]
     },
     "execution_count": 9,
     "metadata": {},
     "output_type": "execute_result"
    }
   ],
   "source": [
    "jpn_space_sentence=[]\n",
    "wakati = MeCab.Tagger(\"-Owakati\")\n",
    "\n",
    "for i in df['jpn'].to_pandas():\n",
    "    jpn_space_sentence.append(jpnsplit(i,wakati))\n",
    "df['jpn']=jpn_space_sentence\n",
    "df"
   ]
  },
  {
   "cell_type": "code",
   "execution_count": 10,
   "metadata": {},
   "outputs": [
    {
     "data": {
      "text/html": [
       "<div>\n",
       "<style scoped>\n",
       "    .dataframe tbody tr th:only-of-type {\n",
       "        vertical-align: middle;\n",
       "    }\n",
       "\n",
       "    .dataframe tbody tr th {\n",
       "        vertical-align: top;\n",
       "    }\n",
       "\n",
       "    .dataframe thead th {\n",
       "        text-align: right;\n",
       "    }\n",
       "</style>\n",
       "<table border=\"1\" class=\"dataframe\">\n",
       "  <thead>\n",
       "    <tr style=\"text-align: right;\">\n",
       "      <th></th>\n",
       "      <th>eng</th>\n",
       "      <th>jpn</th>\n",
       "    </tr>\n",
       "  </thead>\n",
       "  <tbody>\n",
       "    <tr>\n",
       "      <th>0</th>\n",
       "      <td>[&lt;sos&gt;nothing, thrills, me, more, than, to, se...</td>\n",
       "      <td>[&lt;, sos, &gt;, 生徒, が, お, 互い, の, 受精, じゃ, なく, て, 植物...</td>\n",
       "    </tr>\n",
       "    <tr>\n",
       "      <th>1</th>\n",
       "      <td>[&lt;sos&gt;do, you, want, to, spend, all, night, at...</td>\n",
       "      <td>[&lt;, sos, &gt;, この, 雨, の, 中, 一, 晩, 中, 墓地, に, い, たい...</td>\n",
       "    </tr>\n",
       "    <tr>\n",
       "      <th>2</th>\n",
       "      <td>[&lt;sos&gt;our, ships, are, in, attack, position]</td>\n",
       "      <td>[&lt;, sos, &gt;, 船, は, もう, 攻撃, 発起, 位置, に, ある]</td>\n",
       "    </tr>\n",
       "    <tr>\n",
       "      <th>3</th>\n",
       "      <td>[&lt;sos&gt;what, about, the, original, sam, questio...</td>\n",
       "      <td>[&lt;, sos, &gt;, オリジナル, の, サム, が, 居る, ん, だ, ぞ]</td>\n",
       "    </tr>\n",
       "    <tr>\n",
       "      <th>4</th>\n",
       "      <td>[&lt;sos&gt;we, will, now, begin, the, emergency, ca...</td>\n",
       "      <td>[&lt;, sos, &gt;, これ, より, 緊急, 隊, 首, 会, を, 行う]</td>\n",
       "    </tr>\n",
       "    <tr>\n",
       "      <th>...</th>\n",
       "      <td>...</td>\n",
       "      <td>...</td>\n",
       "    </tr>\n",
       "    <tr>\n",
       "      <th>2007888</th>\n",
       "      <td>[&lt;sos&gt;that, citizens, and, city, governments, ...</td>\n",
       "      <td>[&lt;, sos, &gt;, 知る, 必要, の, ある]</td>\n",
       "    </tr>\n",
       "    <tr>\n",
       "      <th>2007889</th>\n",
       "      <td>[&lt;sos&gt;what, good, would, that, have, done, que...</td>\n",
       "      <td>[&lt;, sos, &gt;, 知っ, て, 何, の, 意味, が, ある, questionmark]</td>\n",
       "    </tr>\n",
       "    <tr>\n",
       "      <th>2007890</th>\n",
       "      <td>[&lt;sos&gt;when, ichinosukesan, rushed, over, to, n...</td>\n",
       "      <td>[&lt;, sos, &gt;, 二, 之, 助, さん, に, 駆け寄っ, た, 一之助, さん, は]</td>\n",
       "    </tr>\n",
       "    <tr>\n",
       "      <th>2007891</th>\n",
       "      <td>[&lt;sos&gt;your, words, are, so, encouraging]</td>\n",
       "      <td>[&lt;, sos, &gt;, そう, いっ, た, お, 言葉, を, 力, に]</td>\n",
       "    </tr>\n",
       "    <tr>\n",
       "      <th>2007892</th>\n",
       "      <td>[&lt;sos&gt;do, you, want, to, hear, it, questionmark]</td>\n",
       "      <td>[&lt;, sos, &gt;, 聞き, たく, なけれ, ば, 言わ, ない, けれど]</td>\n",
       "    </tr>\n",
       "  </tbody>\n",
       "</table>\n",
       "<p>2007893 rows × 2 columns</p>\n",
       "</div>"
      ],
      "text/plain": [
       "                                                       eng  \\\n",
       "0        [<sos>nothing, thrills, me, more, than, to, se...   \n",
       "1        [<sos>do, you, want, to, spend, all, night, at...   \n",
       "2             [<sos>our, ships, are, in, attack, position]   \n",
       "3        [<sos>what, about, the, original, sam, questio...   \n",
       "4        [<sos>we, will, now, begin, the, emergency, ca...   \n",
       "...                                                    ...   \n",
       "2007888  [<sos>that, citizens, and, city, governments, ...   \n",
       "2007889  [<sos>what, good, would, that, have, done, que...   \n",
       "2007890  [<sos>when, ichinosukesan, rushed, over, to, n...   \n",
       "2007891           [<sos>your, words, are, so, encouraging]   \n",
       "2007892   [<sos>do, you, want, to, hear, it, questionmark]   \n",
       "\n",
       "                                                       jpn  \n",
       "0        [<, sos, >, 生徒, が, お, 互い, の, 受精, じゃ, なく, て, 植物...  \n",
       "1        [<, sos, >, この, 雨, の, 中, 一, 晩, 中, 墓地, に, い, たい...  \n",
       "2                 [<, sos, >, 船, は, もう, 攻撃, 発起, 位置, に, ある]  \n",
       "3                [<, sos, >, オリジナル, の, サム, が, 居る, ん, だ, ぞ]  \n",
       "4                  [<, sos, >, これ, より, 緊急, 隊, 首, 会, を, 行う]  \n",
       "...                                                    ...  \n",
       "2007888                         [<, sos, >, 知る, 必要, の, ある]  \n",
       "2007889  [<, sos, >, 知っ, て, 何, の, 意味, が, ある, questionmark]  \n",
       "2007890   [<, sos, >, 二, 之, 助, さん, に, 駆け寄っ, た, 一之助, さん, は]  \n",
       "2007891             [<, sos, >, そう, いっ, た, お, 言葉, を, 力, に]  \n",
       "2007892           [<, sos, >, 聞き, たく, なけれ, ば, 言わ, ない, けれど]  \n",
       "\n",
       "[2007893 rows x 2 columns]"
      ]
     },
     "execution_count": 10,
     "metadata": {},
     "output_type": "execute_result"
    }
   ],
   "source": [
    "eng_space_sentence=[]\n",
    "\n",
    "for i in df['eng'].to_pandas():\n",
    "    eng_space_sentence.append(i.split())\n",
    "df['eng']=eng_space_sentence\n",
    "df"
   ]
  },
  {
   "cell_type": "markdown",
   "metadata": {},
   "source": [
    "### another attempt"
   ]
  },
  {
   "cell_type": "markdown",
   "metadata": {},
   "source": [
    "* conda install -c conda-forge spacy\n",
    "* conda install -c conda-forge cupy\n",
    "* python -m spacy download en_core_web_trf\n",
    "* python -m spacy download ja_core_news_trf"
   ]
  },
  {
   "cell_type": "markdown",
   "metadata": {},
   "source": [
    "## removing outleirs"
   ]
  },
  {
   "cell_type": "code",
   "execution_count": 11,
   "metadata": {},
   "outputs": [
    {
     "data": {
      "image/png": "[encoded data removed]",
      "text/plain": [
       "<Figure size 640x480 with 2 Axes>"
      ]
     },
     "metadata": {},
     "output_type": "display_data"
    },
    {
     "data": {
      "text/html": [
       "<div>\n",
       "<style scoped>\n",
       "    .dataframe tbody tr th:only-of-type {\n",
       "        vertical-align: middle;\n",
       "    }\n",
       "\n",
       "    .dataframe tbody tr th {\n",
       "        vertical-align: top;\n",
       "    }\n",
       "\n",
       "    .dataframe thead th {\n",
       "        text-align: right;\n",
       "    }\n",
       "</style>\n",
       "<table border=\"1\" class=\"dataframe\">\n",
       "  <thead>\n",
       "    <tr style=\"text-align: right;\">\n",
       "      <th></th>\n",
       "      <th>english</th>\n",
       "      <th>japanese</th>\n",
       "    </tr>\n",
       "  </thead>\n",
       "  <tbody>\n",
       "    <tr>\n",
       "      <th>0</th>\n",
       "      <td>14</td>\n",
       "      <td>22</td>\n",
       "    </tr>\n",
       "    <tr>\n",
       "      <th>1</th>\n",
       "      <td>14</td>\n",
       "      <td>15</td>\n",
       "    </tr>\n",
       "    <tr>\n",
       "      <th>2</th>\n",
       "      <td>6</td>\n",
       "      <td>11</td>\n",
       "    </tr>\n",
       "    <tr>\n",
       "      <th>3</th>\n",
       "      <td>8</td>\n",
       "      <td>11</td>\n",
       "    </tr>\n",
       "    <tr>\n",
       "      <th>4</th>\n",
       "      <td>8</td>\n",
       "      <td>11</td>\n",
       "    </tr>\n",
       "    <tr>\n",
       "      <th>...</th>\n",
       "      <td>...</td>\n",
       "      <td>...</td>\n",
       "    </tr>\n",
       "    <tr>\n",
       "      <th>2007888</th>\n",
       "      <td>8</td>\n",
       "      <td>7</td>\n",
       "    </tr>\n",
       "    <tr>\n",
       "      <th>2007889</th>\n",
       "      <td>7</td>\n",
       "      <td>11</td>\n",
       "    </tr>\n",
       "    <tr>\n",
       "      <th>2007890</th>\n",
       "      <td>6</td>\n",
       "      <td>13</td>\n",
       "    </tr>\n",
       "    <tr>\n",
       "      <th>2007891</th>\n",
       "      <td>5</td>\n",
       "      <td>11</td>\n",
       "    </tr>\n",
       "    <tr>\n",
       "      <th>2007892</th>\n",
       "      <td>7</td>\n",
       "      <td>10</td>\n",
       "    </tr>\n",
       "  </tbody>\n",
       "</table>\n",
       "<p>2007893 rows × 2 columns</p>\n",
       "</div>"
      ],
      "text/plain": [
       "         english  japanese\n",
       "0             14        22\n",
       "1             14        15\n",
       "2              6        11\n",
       "3              8        11\n",
       "4              8        11\n",
       "...          ...       ...\n",
       "2007888        8         7\n",
       "2007889        7        11\n",
       "2007890        6        13\n",
       "2007891        5        11\n",
       "2007892        7        10\n",
       "\n",
       "[2007893 rows x 2 columns]"
      ]
     },
     "execution_count": 11,
     "metadata": {},
     "output_type": "execute_result"
    }
   ],
   "source": [
    "import pandas as pd\n",
    "import matplotlib.pyplot as plt\n",
    "eng_len = []\n",
    "jpn_len = []\n",
    "\n",
    "# populate the lists with sentence lengths\n",
    "for i in df['eng'].to_arrow().tolist():\n",
    "      eng_len.append(len(i))  \n",
    "           \n",
    "for i in df['jpn'].to_arrow().tolist():\n",
    "      jpn_len.append(len(i))\n",
    "length_df = pd.DataFrame({'english':eng_len, 'japanese':jpn_len})\n",
    "length_df.hist(bins = 20)\n",
    "plt.show()\n",
    "length_df"
   ]
  },
  {
   "cell_type": "code",
   "execution_count": 12,
   "metadata": {},
   "outputs": [],
   "source": [
    "from scipy.stats import zscore\n",
    "length_df=length_df.apply(zscore)\n",
    "zscoremax=3\n",
    "df=df.drop(df[length_df['japanese'] >= zscoremax].index)\n",
    "length_df=length_df.drop(length_df[length_df['japanese'] >= zscoremax].index)\n",
    "df=df.drop(df[length_df['english'] >= zscoremax].index)\n",
    "length_df=length_df.drop(length_df[length_df['english'] >= zscoremax].index)\n"
   ]
  },
  {
   "cell_type": "code",
   "execution_count": 13,
   "metadata": {},
   "outputs": [
    {
     "data": {
      "image/png": "[encoded data removed]",
      "text/plain": [
       "<Figure size 640x480 with 2 Axes>"
      ]
     },
     "metadata": {},
     "output_type": "display_data"
    },
    {
     "data": {
      "text/html": [
       "<div>\n",
       "<style scoped>\n",
       "    .dataframe tbody tr th:only-of-type {\n",
       "        vertical-align: middle;\n",
       "    }\n",
       "\n",
       "    .dataframe tbody tr th {\n",
       "        vertical-align: top;\n",
       "    }\n",
       "\n",
       "    .dataframe thead th {\n",
       "        text-align: right;\n",
       "    }\n",
       "</style>\n",
       "<table border=\"1\" class=\"dataframe\">\n",
       "  <thead>\n",
       "    <tr style=\"text-align: right;\">\n",
       "      <th></th>\n",
       "      <th>english</th>\n",
       "      <th>japanese</th>\n",
       "    </tr>\n",
       "  </thead>\n",
       "  <tbody>\n",
       "    <tr>\n",
       "      <th>0</th>\n",
       "      <td>14</td>\n",
       "      <td>22</td>\n",
       "    </tr>\n",
       "    <tr>\n",
       "      <th>1</th>\n",
       "      <td>14</td>\n",
       "      <td>15</td>\n",
       "    </tr>\n",
       "    <tr>\n",
       "      <th>2</th>\n",
       "      <td>6</td>\n",
       "      <td>11</td>\n",
       "    </tr>\n",
       "    <tr>\n",
       "      <th>3</th>\n",
       "      <td>8</td>\n",
       "      <td>11</td>\n",
       "    </tr>\n",
       "    <tr>\n",
       "      <th>4</th>\n",
       "      <td>8</td>\n",
       "      <td>11</td>\n",
       "    </tr>\n",
       "    <tr>\n",
       "      <th>...</th>\n",
       "      <td>...</td>\n",
       "      <td>...</td>\n",
       "    </tr>\n",
       "    <tr>\n",
       "      <th>1985625</th>\n",
       "      <td>8</td>\n",
       "      <td>7</td>\n",
       "    </tr>\n",
       "    <tr>\n",
       "      <th>1985626</th>\n",
       "      <td>7</td>\n",
       "      <td>11</td>\n",
       "    </tr>\n",
       "    <tr>\n",
       "      <th>1985627</th>\n",
       "      <td>6</td>\n",
       "      <td>13</td>\n",
       "    </tr>\n",
       "    <tr>\n",
       "      <th>1985628</th>\n",
       "      <td>5</td>\n",
       "      <td>11</td>\n",
       "    </tr>\n",
       "    <tr>\n",
       "      <th>1985629</th>\n",
       "      <td>7</td>\n",
       "      <td>10</td>\n",
       "    </tr>\n",
       "  </tbody>\n",
       "</table>\n",
       "<p>1985630 rows × 2 columns</p>\n",
       "</div>"
      ],
      "text/plain": [
       "         english  japanese\n",
       "0             14        22\n",
       "1             14        15\n",
       "2              6        11\n",
       "3              8        11\n",
       "4              8        11\n",
       "...          ...       ...\n",
       "1985625        8         7\n",
       "1985626        7        11\n",
       "1985627        6        13\n",
       "1985628        5        11\n",
       "1985629        7        10\n",
       "\n",
       "[1985630 rows x 2 columns]"
      ]
     },
     "execution_count": 13,
     "metadata": {},
     "output_type": "execute_result"
    }
   ],
   "source": [
    "import pandas as pd\n",
    "import matplotlib.pyplot as plt\n",
    "eng_len = []\n",
    "jpn_len = []\n",
    "\n",
    "# populate the lists with sentence lengths\n",
    "for i in df['eng'].to_arrow().tolist():\n",
    "      eng_len.append(len(i))  \n",
    "           \n",
    "for i in df['jpn'].to_pandas():\n",
    "      jpn_len.append(len(i))\n",
    "\n",
    "length_df = pd.DataFrame({'english':eng_len, 'japanese':jpn_len})\n",
    "length_df.hist(bins = 20)\n",
    "plt.show()\n",
    "length_df"
   ]
  },
  {
   "cell_type": "markdown",
   "metadata": {},
   "source": [
    "# tokenization and padding"
   ]
  },
  {
   "cell_type": "code",
   "execution_count": 14,
   "metadata": {},
   "outputs": [],
   "source": [
    "import pandas as pd\n",
    "import matplotlib.pyplot as plt\n",
    "def get_max_value(eng_len,jpn_len):\n",
    "    englength=max(eng_len)\n",
    "    jpnlength=max(jpn_len)\n",
    "    if(englength>=jpnlength):\n",
    "        return englength\n",
    "    else:\n",
    "        return jpnlength\n",
    "def pad_the_sentence(i,maxlen):\n",
    "      if maxlen>=len(i):\n",
    "            delta=maxlen-len(i)\n",
    "            for x in range(delta):\n",
    "                  i.append(' <eos>')\n",
    "      return \" \".join(i)\n",
    "\n"
   ]
  },
  {
   "cell_type": "code",
   "execution_count": 15,
   "metadata": {},
   "outputs": [
    {
     "data": {
      "text/html": [
       "<div>\n",
       "<style scoped>\n",
       "    .dataframe tbody tr th:only-of-type {\n",
       "        vertical-align: middle;\n",
       "    }\n",
       "\n",
       "    .dataframe tbody tr th {\n",
       "        vertical-align: top;\n",
       "    }\n",
       "\n",
       "    .dataframe thead th {\n",
       "        text-align: right;\n",
       "    }\n",
       "</style>\n",
       "<table border=\"1\" class=\"dataframe\">\n",
       "  <thead>\n",
       "    <tr style=\"text-align: right;\">\n",
       "      <th></th>\n",
       "      <th>eng</th>\n",
       "      <th>jpn</th>\n",
       "    </tr>\n",
       "  </thead>\n",
       "  <tbody>\n",
       "    <tr>\n",
       "      <th>0</th>\n",
       "      <td>&lt;sos&gt;nothing thrills me more than to see kids ...</td>\n",
       "      <td>&lt; sos &gt; 生徒 が お 互い の 受精 じゃ なく て 植物 の 受粉 に 熱中 し ...</td>\n",
       "    </tr>\n",
       "    <tr>\n",
       "      <th>1</th>\n",
       "      <td>&lt;sos&gt;do you want to spend all night at the cem...</td>\n",
       "      <td>&lt; sos &gt; この 雨 の 中 一 晩 中 墓地 に い たい questionmark ...</td>\n",
       "    </tr>\n",
       "    <tr>\n",
       "      <th>2</th>\n",
       "      <td>&lt;sos&gt;our ships are in attack position  &lt;eos&gt;  ...</td>\n",
       "      <td>&lt; sos &gt; 船 は もう 攻撃 発起 位置 に ある  &lt;eos&gt;  &lt;eos&gt;  &lt;e...</td>\n",
       "    </tr>\n",
       "    <tr>\n",
       "      <th>3</th>\n",
       "      <td>&lt;sos&gt;what about the original sam questionmark ...</td>\n",
       "      <td>&lt; sos &gt; オリジナル の サム が 居る ん だ ぞ  &lt;eos&gt;  &lt;eos&gt;  &lt;...</td>\n",
       "    </tr>\n",
       "    <tr>\n",
       "      <th>4</th>\n",
       "      <td>&lt;sos&gt;we will now begin the emergency captains ...</td>\n",
       "      <td>&lt; sos &gt; これ より 緊急 隊 首 会 を 行う  &lt;eos&gt;  &lt;eos&gt;  &lt;eo...</td>\n",
       "    </tr>\n",
       "    <tr>\n",
       "      <th>...</th>\n",
       "      <td>...</td>\n",
       "      <td>...</td>\n",
       "    </tr>\n",
       "    <tr>\n",
       "      <th>2007888</th>\n",
       "      <td>&lt;sos&gt;that citizens and city governments around...</td>\n",
       "      <td>&lt; sos &gt; 知る 必要 の ある  &lt;eos&gt;  &lt;eos&gt;  &lt;eos&gt;  &lt;eos&gt;...</td>\n",
       "    </tr>\n",
       "    <tr>\n",
       "      <th>2007889</th>\n",
       "      <td>&lt;sos&gt;what good would that have done questionma...</td>\n",
       "      <td>&lt; sos &gt; 知っ て 何 の 意味 が ある questionmark  &lt;eos&gt;  ...</td>\n",
       "    </tr>\n",
       "    <tr>\n",
       "      <th>2007890</th>\n",
       "      <td>&lt;sos&gt;when ichinosukesan rushed over to ninosuk...</td>\n",
       "      <td>&lt; sos &gt; 二 之 助 さん に 駆け寄っ た 一之助 さん は  &lt;eos&gt;  &lt;eo...</td>\n",
       "    </tr>\n",
       "    <tr>\n",
       "      <th>2007891</th>\n",
       "      <td>&lt;sos&gt;your words are so encouraging  &lt;eos&gt;  &lt;eo...</td>\n",
       "      <td>&lt; sos &gt; そう いっ た お 言葉 を 力 に  &lt;eos&gt;  &lt;eos&gt;  &lt;eos...</td>\n",
       "    </tr>\n",
       "    <tr>\n",
       "      <th>2007892</th>\n",
       "      <td>&lt;sos&gt;do you want to hear it questionmark  &lt;eos...</td>\n",
       "      <td>&lt; sos &gt; 聞き たく なけれ ば 言わ ない けれど  &lt;eos&gt;  &lt;eos&gt;  &lt;...</td>\n",
       "    </tr>\n",
       "  </tbody>\n",
       "</table>\n",
       "<p>1985630 rows × 2 columns</p>\n",
       "</div>"
      ],
      "text/plain": [
       "                                                       eng  \\\n",
       "0        <sos>nothing thrills me more than to see kids ...   \n",
       "1        <sos>do you want to spend all night at the cem...   \n",
       "2        <sos>our ships are in attack position  <eos>  ...   \n",
       "3        <sos>what about the original sam questionmark ...   \n",
       "4        <sos>we will now begin the emergency captains ...   \n",
       "...                                                    ...   \n",
       "2007888  <sos>that citizens and city governments around...   \n",
       "2007889  <sos>what good would that have done questionma...   \n",
       "2007890  <sos>when ichinosukesan rushed over to ninosuk...   \n",
       "2007891  <sos>your words are so encouraging  <eos>  <eo...   \n",
       "2007892  <sos>do you want to hear it questionmark  <eos...   \n",
       "\n",
       "                                                       jpn  \n",
       "0        < sos > 生徒 が お 互い の 受精 じゃ なく て 植物 の 受粉 に 熱中 し ...  \n",
       "1        < sos > この 雨 の 中 一 晩 中 墓地 に い たい questionmark ...  \n",
       "2        < sos > 船 は もう 攻撃 発起 位置 に ある  <eos>  <eos>  <e...  \n",
       "3        < sos > オリジナル の サム が 居る ん だ ぞ  <eos>  <eos>  <...  \n",
       "4        < sos > これ より 緊急 隊 首 会 を 行う  <eos>  <eos>  <eo...  \n",
       "...                                                    ...  \n",
       "2007888  < sos > 知る 必要 の ある  <eos>  <eos>  <eos>  <eos>...  \n",
       "2007889  < sos > 知っ て 何 の 意味 が ある questionmark  <eos>  ...  \n",
       "2007890  < sos > 二 之 助 さん に 駆け寄っ た 一之助 さん は  <eos>  <eo...  \n",
       "2007891  < sos > そう いっ た お 言葉 を 力 に  <eos>  <eos>  <eos...  \n",
       "2007892  < sos > 聞き たく なけれ ば 言わ ない けれど  <eos>  <eos>  <...  \n",
       "\n",
       "[1985630 rows x 2 columns]"
      ]
     },
     "execution_count": 15,
     "metadata": {},
     "output_type": "execute_result"
    }
   ],
   "source": [
    "            \n",
    "max_len=get_max_value(eng_len,jpn_len)\n",
    "eng_col = []\n",
    "jpn_col = []\n",
    "# populate the lists with sentence lengths\n",
    "\n",
    "\n",
    "for i in df['eng'].to_pandas():\n",
    "      eng_col.append(pad_the_sentence(i,max_len))\n",
    "\n",
    "df['eng']=eng_col\n",
    "for i in df['jpn'].to_pandas():\n",
    "      jpn_col.append(pad_the_sentence(i,max_len)) \n",
    "df['jpn']=jpn_col\n",
    "df\n"
   ]
  },
  {
   "cell_type": "code",
   "execution_count": 16,
   "metadata": {},
   "outputs": [
    {
     "name": "stdout",
     "output_type": "stream",
     "text": [
      "the min values for eng is 1 and the min values for jpn is 28\n",
      "the max values for eng is 17 and the max values for jpn is 28\n",
      "the mean values for eng is 6.626831282766679 and the mean values for jpn is 10.69807416286015\n"
     ]
    }
   ],
   "source": [
    "import numpy as np\n",
    "print(f'the min values for eng is {min(eng_len)} and the min values for jpn is {max(jpn_len)}')\n",
    "print(f'the max values for eng is {max(eng_len)} and the max values for jpn is {max(jpn_len)}')\n",
    "print(f'the mean values for eng is {np.mean(eng_len)} and the mean values for jpn is {np.mean(jpn_len)}')"
   ]
  },
  {
   "cell_type": "code",
   "execution_count": 17,
   "metadata": {},
   "outputs": [
    {
     "data": {
      "text/html": [
       "<div>\n",
       "<style scoped>\n",
       "    .dataframe tbody tr th:only-of-type {\n",
       "        vertical-align: middle;\n",
       "    }\n",
       "\n",
       "    .dataframe tbody tr th {\n",
       "        vertical-align: top;\n",
       "    }\n",
       "\n",
       "    .dataframe thead th {\n",
       "        text-align: right;\n",
       "    }\n",
       "</style>\n",
       "<table border=\"1\" class=\"dataframe\">\n",
       "  <thead>\n",
       "    <tr style=\"text-align: right;\">\n",
       "      <th></th>\n",
       "      <th>eng</th>\n",
       "      <th>jpn</th>\n",
       "    </tr>\n",
       "  </thead>\n",
       "  <tbody>\n",
       "    <tr>\n",
       "      <th>1</th>\n",
       "      <td>&lt;sos&gt;do you want to spend all night at the cem...</td>\n",
       "      <td>&lt; sos &gt; この 雨 の 中 一 晩 中 墓地 に い たい questionmark ...</td>\n",
       "    </tr>\n",
       "    <tr>\n",
       "      <th>2</th>\n",
       "      <td>&lt;sos&gt;our ships are in attack position  &lt;eos&gt;  ...</td>\n",
       "      <td>&lt; sos &gt; 船 は もう 攻撃 発起 位置 に ある  &lt;eos&gt;  &lt;eos&gt;  &lt;e...</td>\n",
       "    </tr>\n",
       "    <tr>\n",
       "      <th>3</th>\n",
       "      <td>&lt;sos&gt;what about the original sam questionmark ...</td>\n",
       "      <td>&lt; sos &gt; オリジナル の サム が 居る ん だ ぞ  &lt;eos&gt;  &lt;eos&gt;  &lt;...</td>\n",
       "    </tr>\n",
       "    <tr>\n",
       "      <th>4</th>\n",
       "      <td>&lt;sos&gt;we will now begin the emergency captains ...</td>\n",
       "      <td>&lt; sos &gt; これ より 緊急 隊 首 会 を 行う  &lt;eos&gt;  &lt;eos&gt;  &lt;eo...</td>\n",
       "    </tr>\n",
       "    <tr>\n",
       "      <th>5</th>\n",
       "      <td>&lt;sos&gt;this is an unnamed species of copepod a c...</td>\n",
       "      <td>&lt; sos &gt; これ は 名前 の ない カイ アシ つまり 甲殻 プランクトン です  &lt;...</td>\n",
       "    </tr>\n",
       "    <tr>\n",
       "      <th>...</th>\n",
       "      <td>...</td>\n",
       "      <td>...</td>\n",
       "    </tr>\n",
       "    <tr>\n",
       "      <th>2007888</th>\n",
       "      <td>&lt;sos&gt;that citizens and city governments around...</td>\n",
       "      <td>&lt; sos &gt; 知る 必要 の ある  &lt;eos&gt;  &lt;eos&gt;  &lt;eos&gt;  &lt;eos&gt;...</td>\n",
       "    </tr>\n",
       "    <tr>\n",
       "      <th>2007889</th>\n",
       "      <td>&lt;sos&gt;what good would that have done questionma...</td>\n",
       "      <td>&lt; sos &gt; 知っ て 何 の 意味 が ある questionmark  &lt;eos&gt;  ...</td>\n",
       "    </tr>\n",
       "    <tr>\n",
       "      <th>2007890</th>\n",
       "      <td>&lt;sos&gt;when ichinosukesan rushed over to ninosuk...</td>\n",
       "      <td>&lt; sos &gt; 二 之 助 さん に 駆け寄っ た 一之助 さん は  &lt;eos&gt;  &lt;eo...</td>\n",
       "    </tr>\n",
       "    <tr>\n",
       "      <th>2007891</th>\n",
       "      <td>&lt;sos&gt;your words are so encouraging  &lt;eos&gt;  &lt;eo...</td>\n",
       "      <td>&lt; sos &gt; そう いっ た お 言葉 を 力 に  &lt;eos&gt;  &lt;eos&gt;  &lt;eos...</td>\n",
       "    </tr>\n",
       "    <tr>\n",
       "      <th>2007892</th>\n",
       "      <td>&lt;sos&gt;do you want to hear it questionmark  &lt;eos...</td>\n",
       "      <td>&lt; sos &gt; 聞き たく なけれ ば 言わ ない けれど  &lt;eos&gt;  &lt;eos&gt;  &lt;...</td>\n",
       "    </tr>\n",
       "  </tbody>\n",
       "</table>\n",
       "<p>1949703 rows × 2 columns</p>\n",
       "</div>"
      ],
      "text/plain": [
       "                                                       eng  \\\n",
       "1        <sos>do you want to spend all night at the cem...   \n",
       "2        <sos>our ships are in attack position  <eos>  ...   \n",
       "3        <sos>what about the original sam questionmark ...   \n",
       "4        <sos>we will now begin the emergency captains ...   \n",
       "5        <sos>this is an unnamed species of copepod a c...   \n",
       "...                                                    ...   \n",
       "2007888  <sos>that citizens and city governments around...   \n",
       "2007889  <sos>what good would that have done questionma...   \n",
       "2007890  <sos>when ichinosukesan rushed over to ninosuk...   \n",
       "2007891  <sos>your words are so encouraging  <eos>  <eo...   \n",
       "2007892  <sos>do you want to hear it questionmark  <eos...   \n",
       "\n",
       "                                                       jpn  \n",
       "1        < sos > この 雨 の 中 一 晩 中 墓地 に い たい questionmark ...  \n",
       "2        < sos > 船 は もう 攻撃 発起 位置 に ある  <eos>  <eos>  <e...  \n",
       "3        < sos > オリジナル の サム が 居る ん だ ぞ  <eos>  <eos>  <...  \n",
       "4        < sos > これ より 緊急 隊 首 会 を 行う  <eos>  <eos>  <eo...  \n",
       "5        < sos > これ は 名前 の ない カイ アシ つまり 甲殻 プランクトン です  <...  \n",
       "...                                                    ...  \n",
       "2007888  < sos > 知る 必要 の ある  <eos>  <eos>  <eos>  <eos>...  \n",
       "2007889  < sos > 知っ て 何 の 意味 が ある questionmark  <eos>  ...  \n",
       "2007890  < sos > 二 之 助 さん に 駆け寄っ た 一之助 さん は  <eos>  <eo...  \n",
       "2007891  < sos > そう いっ た お 言葉 を 力 に  <eos>  <eos>  <eos...  \n",
       "2007892  < sos > 聞き たく なけれ ば 言わ ない けれど  <eos>  <eos>  <...  \n",
       "\n",
       "[1949703 rows x 2 columns]"
      ]
     },
     "execution_count": 17,
     "metadata": {},
     "output_type": "execute_result"
    }
   ],
   "source": [
    "df=df[length_df['english']<=20]\n",
    "df=df[length_df['japanese']<=20]\n",
    "df"
   ]
  },
  {
   "cell_type": "code",
   "execution_count": 18,
   "metadata": {},
   "outputs": [],
   "source": [
    "#df['eng'] = df['eng'].str.join(' ')\n",
    "#df['jpn'] = df['jpn'].str.join(' ')"
   ]
  },
  {
   "cell_type": "markdown",
   "metadata": {},
   "source": [
    "split the data set into train val and test"
   ]
  },
  {
   "cell_type": "code",
   "execution_count": 19,
   "metadata": {},
   "outputs": [
    {
     "data": {
      "text/html": [
       "<div>\n",
       "<style scoped>\n",
       "    .dataframe tbody tr th:only-of-type {\n",
       "        vertical-align: middle;\n",
       "    }\n",
       "\n",
       "    .dataframe tbody tr th {\n",
       "        vertical-align: top;\n",
       "    }\n",
       "\n",
       "    .dataframe thead th {\n",
       "        text-align: right;\n",
       "    }\n",
       "</style>\n",
       "<table border=\"1\" class=\"dataframe\">\n",
       "  <thead>\n",
       "    <tr style=\"text-align: right;\">\n",
       "      <th></th>\n",
       "      <th>eng</th>\n",
       "      <th>jpn</th>\n",
       "    </tr>\n",
       "  </thead>\n",
       "  <tbody>\n",
       "    <tr>\n",
       "      <th>0</th>\n",
       "      <td>&lt;sos&gt;they found someone that could do it cheap...</td>\n",
       "      <td>&lt; sos &gt; 後任 が 見つかっ て クビ に さ れ た  &lt;eos&gt;  &lt;eos&gt;  ...</td>\n",
       "    </tr>\n",
       "    <tr>\n",
       "      <th>1</th>\n",
       "      <td>&lt;sos&gt;what questionmark  &lt;eos&gt;  &lt;eos&gt;  &lt;eos&gt;  &lt;...</td>\n",
       "      <td>&lt; sos &gt; な ん だ  &lt;eos&gt;  &lt;eos&gt;  &lt;eos&gt;  &lt;eos&gt;  &lt;eo...</td>\n",
       "    </tr>\n",
       "    <tr>\n",
       "      <th>2</th>\n",
       "      <td>&lt;sos&gt;a guest  &lt;eos&gt;  &lt;eos&gt;  &lt;eos&gt;  &lt;eos&gt;  &lt;eos...</td>\n",
       "      <td>&lt; sos &gt; お 客 さん ん っ questionmark  &lt;eos&gt;  &lt;eos&gt; ...</td>\n",
       "    </tr>\n",
       "    <tr>\n",
       "      <th>3</th>\n",
       "      <td>&lt;sos&gt;so it is special  &lt;eos&gt;  &lt;eos&gt;  &lt;eos&gt;  &lt;e...</td>\n",
       "      <td>&lt; sos &gt; それ で 特別 だ  &lt;eos&gt;  &lt;eos&gt;  &lt;eos&gt;  &lt;eos&gt; ...</td>\n",
       "    </tr>\n",
       "    <tr>\n",
       "      <th>4</th>\n",
       "      <td>&lt;sos&gt;i have the evidence  &lt;eos&gt;  &lt;eos&gt;  &lt;eos&gt; ...</td>\n",
       "      <td>&lt; sos &gt; 《 ≪ 証拠 は 手 に 入れ てる ➡》  &lt;eos&gt;  &lt;eos&gt;  &lt;...</td>\n",
       "    </tr>\n",
       "    <tr>\n",
       "      <th>...</th>\n",
       "      <td>...</td>\n",
       "      <td>...</td>\n",
       "    </tr>\n",
       "    <tr>\n",
       "      <th>1949698</th>\n",
       "      <td>&lt;sos&gt;and you don not mess with jackie on this ...</td>\n",
       "      <td>&lt; sos &gt; この 波止場 で ジャッキー 様 に 楯突く 奴 は い ない ぜ  &lt;eo...</td>\n",
       "    </tr>\n",
       "    <tr>\n",
       "      <th>1949699</th>\n",
       "      <td>&lt;sos&gt;till when will i hide it sister questionm...</td>\n",
       "      <td>&lt; sos &gt; お 願い いつ まで 隠し て おく の questionmark  &lt;eo...</td>\n",
       "    </tr>\n",
       "    <tr>\n",
       "      <th>1949700</th>\n",
       "      <td>&lt;sos&gt;take my hand take my hand  &lt;eos&gt;  &lt;eos&gt;  ...</td>\n",
       "      <td>&lt; sos &gt; 手 を 取れ  &lt;eos&gt;  &lt;eos&gt;  &lt;eos&gt;  &lt;eos&gt;  &lt;e...</td>\n",
       "    </tr>\n",
       "    <tr>\n",
       "      <th>1949701</th>\n",
       "      <td>&lt;sos&gt;stop saying that they don t  &lt;eos&gt;  &lt;eos&gt;...</td>\n",
       "      <td>&lt; sos &gt; 俺 の 立場 に なっ て みろ  &lt;eos&gt;  &lt;eos&gt;  &lt;eos&gt; ...</td>\n",
       "    </tr>\n",
       "    <tr>\n",
       "      <th>1949702</th>\n",
       "      <td>&lt;sos&gt;i know you have a gun between your legs  ...</td>\n",
       "      <td>&lt; sos &gt;[ 武器 を 隠し てる な questionmark ]  &lt;eos&gt;  &lt;...</td>\n",
       "    </tr>\n",
       "  </tbody>\n",
       "</table>\n",
       "<p>1949703 rows × 2 columns</p>\n",
       "</div>"
      ],
      "text/plain": [
       "                                                       eng  \\\n",
       "0        <sos>they found someone that could do it cheap...   \n",
       "1        <sos>what questionmark  <eos>  <eos>  <eos>  <...   \n",
       "2        <sos>a guest  <eos>  <eos>  <eos>  <eos>  <eos...   \n",
       "3        <sos>so it is special  <eos>  <eos>  <eos>  <e...   \n",
       "4        <sos>i have the evidence  <eos>  <eos>  <eos> ...   \n",
       "...                                                    ...   \n",
       "1949698  <sos>and you don not mess with jackie on this ...   \n",
       "1949699  <sos>till when will i hide it sister questionm...   \n",
       "1949700  <sos>take my hand take my hand  <eos>  <eos>  ...   \n",
       "1949701  <sos>stop saying that they don t  <eos>  <eos>...   \n",
       "1949702  <sos>i know you have a gun between your legs  ...   \n",
       "\n",
       "                                                       jpn  \n",
       "0        < sos > 後任 が 見つかっ て クビ に さ れ た  <eos>  <eos>  ...  \n",
       "1        < sos > な ん だ  <eos>  <eos>  <eos>  <eos>  <eo...  \n",
       "2        < sos > お 客 さん ん っ questionmark  <eos>  <eos> ...  \n",
       "3        < sos > それ で 特別 だ  <eos>  <eos>  <eos>  <eos> ...  \n",
       "4        < sos > 《 ≪ 証拠 は 手 に 入れ てる ➡》  <eos>  <eos>  <...  \n",
       "...                                                    ...  \n",
       "1949698  < sos > この 波止場 で ジャッキー 様 に 楯突く 奴 は い ない ぜ  <eo...  \n",
       "1949699  < sos > お 願い いつ まで 隠し て おく の questionmark  <eo...  \n",
       "1949700  < sos > 手 を 取れ  <eos>  <eos>  <eos>  <eos>  <e...  \n",
       "1949701  < sos > 俺 の 立場 に なっ て みろ  <eos>  <eos>  <eos> ...  \n",
       "1949702  < sos >[ 武器 を 隠し てる な questionmark ]  <eos>  <...  \n",
       "\n",
       "[1949703 rows x 2 columns]"
      ]
     },
     "execution_count": 19,
     "metadata": {},
     "output_type": "execute_result"
    }
   ],
   "source": [
    "import sklearn\n",
    "df = sklearn.utils.shuffle(df)\n",
    "df = df.reset_index(drop=True)  \n",
    "df"
   ]
  },
  {
   "cell_type": "code",
   "execution_count": 20,
   "metadata": {},
   "outputs": [
    {
     "name": "stdout",
     "output_type": "stream",
     "text": [
      "(1936097, 2)\n",
      "(6756, 2)\n",
      "(6850, 2)\n"
     ]
    }
   ],
   "source": [
    "# len of train will be 1959109 values\n",
    "# len of val will be 6850\n",
    "# len of test will be 6756\n",
    "train_data=df.iloc[13606:,:]\n",
    "print(train_data.shape)\n",
    "val_test_data=df.iloc[:13606,:]\n",
    "valid_data=val_test_data.iloc[6850:,:]\n",
    "print(valid_data.shape)\n",
    "test_data=val_test_data.iloc[:6850,:]\n",
    "print(test_data.shape)"
   ]
  },
  {
   "cell_type": "code",
   "execution_count": 21,
   "metadata": {},
   "outputs": [
    {
     "data": {
      "text/html": [
       "<div>\n",
       "<style scoped>\n",
       "    .dataframe tbody tr th:only-of-type {\n",
       "        vertical-align: middle;\n",
       "    }\n",
       "\n",
       "    .dataframe tbody tr th {\n",
       "        vertical-align: top;\n",
       "    }\n",
       "\n",
       "    .dataframe thead th {\n",
       "        text-align: right;\n",
       "    }\n",
       "</style>\n",
       "<table border=\"1\" class=\"dataframe\">\n",
       "  <thead>\n",
       "    <tr style=\"text-align: right;\">\n",
       "      <th></th>\n",
       "      <th>eng</th>\n",
       "      <th>jpn</th>\n",
       "    </tr>\n",
       "  </thead>\n",
       "  <tbody>\n",
       "    <tr>\n",
       "      <th>0</th>\n",
       "      <td>&lt;sos&gt;they found someone that could do it cheap...</td>\n",
       "      <td>&lt; sos &gt; 後任 が 見つかっ て クビ に さ れ た  &lt;eos&gt;  &lt;eos&gt;  ...</td>\n",
       "    </tr>\n",
       "    <tr>\n",
       "      <th>1</th>\n",
       "      <td>&lt;sos&gt;what questionmark  &lt;eos&gt;  &lt;eos&gt;  &lt;eos&gt;  &lt;...</td>\n",
       "      <td>&lt; sos &gt; な ん だ  &lt;eos&gt;  &lt;eos&gt;  &lt;eos&gt;  &lt;eos&gt;  &lt;eo...</td>\n",
       "    </tr>\n",
       "    <tr>\n",
       "      <th>2</th>\n",
       "      <td>&lt;sos&gt;a guest  &lt;eos&gt;  &lt;eos&gt;  &lt;eos&gt;  &lt;eos&gt;  &lt;eos...</td>\n",
       "      <td>&lt; sos &gt; お 客 さん ん っ questionmark  &lt;eos&gt;  &lt;eos&gt; ...</td>\n",
       "    </tr>\n",
       "    <tr>\n",
       "      <th>3</th>\n",
       "      <td>&lt;sos&gt;so it is special  &lt;eos&gt;  &lt;eos&gt;  &lt;eos&gt;  &lt;e...</td>\n",
       "      <td>&lt; sos &gt; それ で 特別 だ  &lt;eos&gt;  &lt;eos&gt;  &lt;eos&gt;  &lt;eos&gt; ...</td>\n",
       "    </tr>\n",
       "    <tr>\n",
       "      <th>4</th>\n",
       "      <td>&lt;sos&gt;i have the evidence  &lt;eos&gt;  &lt;eos&gt;  &lt;eos&gt; ...</td>\n",
       "      <td>&lt; sos &gt; 《 ≪ 証拠 は 手 に 入れ てる ➡》  &lt;eos&gt;  &lt;eos&gt;  &lt;...</td>\n",
       "    </tr>\n",
       "    <tr>\n",
       "      <th>...</th>\n",
       "      <td>...</td>\n",
       "      <td>...</td>\n",
       "    </tr>\n",
       "    <tr>\n",
       "      <th>6845</th>\n",
       "      <td>&lt;sos&gt;with your life questionmark  &lt;eos&gt;  &lt;eos&gt;...</td>\n",
       "      <td>&lt; sos &gt; カンダ ー 人 の データ もっ て 事 ね  &lt;eos&gt;  &lt;eos&gt;  ...</td>\n",
       "    </tr>\n",
       "    <tr>\n",
       "      <th>6846</th>\n",
       "      <td>&lt;sos&gt;what did you do to her questionmark  &lt;eos...</td>\n",
       "      <td>&lt; sos &gt; 彼女 に 何 を し た ん だ questionmark  &lt;eos&gt;  ...</td>\n",
       "    </tr>\n",
       "    <tr>\n",
       "      <th>6847</th>\n",
       "      <td>&lt;sos&gt;go ahead what are you doing  &lt;eos&gt;  &lt;eos&gt;...</td>\n",
       "      <td>&lt; sos &gt; いっ て え な 何 す ん だ よ  &lt;eos&gt;  &lt;eos&gt;  &lt;eos...</td>\n",
       "    </tr>\n",
       "    <tr>\n",
       "      <th>6848</th>\n",
       "      <td>&lt;sos&gt;you have a life  &lt;eos&gt;  &lt;eos&gt;  &lt;eos&gt;  &lt;eo...</td>\n",
       "      <td>&lt; sos &gt; 自分 の 人生 よ ね  &lt;eos&gt;  &lt;eos&gt;  &lt;eos&gt;  &lt;eos...</td>\n",
       "    </tr>\n",
       "    <tr>\n",
       "      <th>6849</th>\n",
       "      <td>&lt;sos&gt;can i play the prince who wakes the princ...</td>\n",
       "      <td>&lt; sos &gt; この 後 姫 に キス し て 起こす 王子 役 は 俺 で いい の  &lt;...</td>\n",
       "    </tr>\n",
       "  </tbody>\n",
       "</table>\n",
       "<p>6850 rows × 2 columns</p>\n",
       "</div>"
      ],
      "text/plain": [
       "                                                    eng  \\\n",
       "0     <sos>they found someone that could do it cheap...   \n",
       "1     <sos>what questionmark  <eos>  <eos>  <eos>  <...   \n",
       "2     <sos>a guest  <eos>  <eos>  <eos>  <eos>  <eos...   \n",
       "3     <sos>so it is special  <eos>  <eos>  <eos>  <e...   \n",
       "4     <sos>i have the evidence  <eos>  <eos>  <eos> ...   \n",
       "...                                                 ...   \n",
       "6845  <sos>with your life questionmark  <eos>  <eos>...   \n",
       "6846  <sos>what did you do to her questionmark  <eos...   \n",
       "6847  <sos>go ahead what are you doing  <eos>  <eos>...   \n",
       "6848  <sos>you have a life  <eos>  <eos>  <eos>  <eo...   \n",
       "6849  <sos>can i play the prince who wakes the princ...   \n",
       "\n",
       "                                                    jpn  \n",
       "0     < sos > 後任 が 見つかっ て クビ に さ れ た  <eos>  <eos>  ...  \n",
       "1     < sos > な ん だ  <eos>  <eos>  <eos>  <eos>  <eo...  \n",
       "2     < sos > お 客 さん ん っ questionmark  <eos>  <eos> ...  \n",
       "3     < sos > それ で 特別 だ  <eos>  <eos>  <eos>  <eos> ...  \n",
       "4     < sos > 《 ≪ 証拠 は 手 に 入れ てる ➡》  <eos>  <eos>  <...  \n",
       "...                                                 ...  \n",
       "6845  < sos > カンダ ー 人 の データ もっ て 事 ね  <eos>  <eos>  ...  \n",
       "6846  < sos > 彼女 に 何 を し た ん だ questionmark  <eos>  ...  \n",
       "6847  < sos > いっ て え な 何 す ん だ よ  <eos>  <eos>  <eos...  \n",
       "6848  < sos > 自分 の 人生 よ ね  <eos>  <eos>  <eos>  <eos...  \n",
       "6849  < sos > この 後 姫 に キス し て 起こす 王子 役 は 俺 で いい の  <...  \n",
       "\n",
       "[6850 rows x 2 columns]"
      ]
     },
     "execution_count": 21,
     "metadata": {},
     "output_type": "execute_result"
    }
   ],
   "source": [
    "test_data = test_data.reset_index(drop=True)\n",
    "train_data = train_data.reset_index(drop=True)\n",
    "valid_data = valid_data.reset_index(drop=True)   \n",
    "test_data\n"
   ]
  },
  {
   "cell_type": "code",
   "execution_count": 22,
   "metadata": {},
   "outputs": [
    {
     "data": {
      "application/vnd.jupyter.widget-view+json": {
       "model_id": "c2f6a1d04580410aa073735e5d79e884",
       "version_major": 2,
       "version_minor": 0
      },
      "text/plain": [
       "Saving the dataset (0/2 shards):   0%|          | 0/1936097 [00:00<?, ? examples/s]"
      ]
     },
     "metadata": {},
     "output_type": "display_data"
    },
    {
     "data": {
      "application/vnd.jupyter.widget-view+json": {
       "model_id": "2651365fe567401f9b8ade93d964a10d",
       "version_major": 2,
       "version_minor": 0
      },
      "text/plain": [
       "Saving the dataset (0/1 shards):   0%|          | 0/6850 [00:00<?, ? examples/s]"
      ]
     },
     "metadata": {},
     "output_type": "display_data"
    },
    {
     "data": {
      "application/vnd.jupyter.widget-view+json": {
       "model_id": "ad225c734a5e4eb3a0635c0a1687dc75",
       "version_major": 2,
       "version_minor": 0
      },
      "text/plain": [
       "Saving the dataset (0/1 shards):   0%|          | 0/6756 [00:00<?, ? examples/s]"
      ]
     },
     "metadata": {},
     "output_type": "display_data"
    }
   ],
   "source": [
    "from datasets import Dataset, features,DatasetDict\n",
    "train_data_dic={'eng':train_data['eng'].to_arrow().tolist(),\"jpn\":train_data['jpn'].to_arrow().tolist()}\n",
    "test_data_dic={'eng':test_data['eng'].to_arrow().tolist(),\"jpn\":test_data['jpn'].to_arrow().tolist()}\n",
    "valid_data_dic={'eng':valid_data['eng'].to_arrow().tolist(),\"jpn\":valid_data['jpn'].to_arrow().tolist()}\n",
    "Dataset.from_dict(train_data_dic).save_to_disk(\"dataset_jpn_eng.hf/train\")\n",
    "Dataset.from_dict(test_data_dic).save_to_disk(\"dataset_jpn_eng.hf/test\")\n",
    "Dataset.from_dict(valid_data_dic).save_to_disk(\"dataset_jpn_eng.hf/valid\")\n",
    "#dataset_dic={'train':train_data_dic,\"test\":test_data_dic,\"valid\":valid_data_dic}\n",
    "#dataset_dic"
   ]
  },
  {
   "cell_type": "markdown",
   "metadata": {},
   "source": [
    "# model\n"
   ]
  },
  {
   "cell_type": "code",
   "execution_count": 23,
   "metadata": {},
   "outputs": [
    {
     "name": "stdout",
     "output_type": "stream",
     "text": [
      "Device found : [PhysicalDevice(name='/physical_device:GPU:0', device_type='GPU')]\n"
     ]
    },
    {
     "name": "stderr",
     "output_type": "stream",
     "text": [
      "2024-08-19 14:34:28.369747: I external/local_xla/xla/stream_executor/cuda/cuda_executor.cc:984] could not open file to read NUMA node: /sys/bus/pci/devices/0000:01:00.0/numa_node\n",
      "Your kernel may have been built without NUMA support.\n",
      "2024-08-19 14:34:28.372860: I external/local_xla/xla/stream_executor/cuda/cuda_executor.cc:984] could not open file to read NUMA node: /sys/bus/pci/devices/0000:01:00.0/numa_node\n",
      "Your kernel may have been built without NUMA support.\n",
      "2024-08-19 14:34:28.372919: I external/local_xla/xla/stream_executor/cuda/cuda_executor.cc:984] could not open file to read NUMA node: /sys/bus/pci/devices/0000:01:00.0/numa_node\n",
      "Your kernel may have been built without NUMA support.\n"
     ]
    }
   ],
   "source": [
    "# import the required libraries:\n",
    "import os, sys\n",
    "from keras.utils import to_categorical\n",
    "from tensorflow import keras\n",
    "from keras.models import Model\n",
    "from keras.layers import Input, LSTM, GRU, Dense, Embedding\n",
    "from keras.preprocessing.sequence import pad_sequences\n",
    "import numpy as np\n",
    "import pickle\n",
    "import matplotlib.pyplot as plt\n",
    "import tensorflow as tf\n",
    "#from keras.preprocessing import text\n",
    "from keras.callbacks import EarlyStopping\n",
    "from numpy import asarray\n",
    "from datasets import Dataset\n",
    "import datasets\n",
    "from datasets import load_dataset\n",
    "from numpy import zeros\n",
    "import tensorflow as tf\n",
    "import os\n",
    "import torch\n",
    "\n",
    "os.environ['TF_ENABLE_ONEDNN_OPTS'] = '0'\n",
    "import tensorflow as tf\n",
    "import matplotlib.pyplot as plt\n",
    "physical_device = tf.config.experimental.list_physical_devices('GPU')\n",
    "print(f'Device found : {physical_device}')\n",
    "tf.config.experimental.get_memory_growth(physical_device[0])\n",
    "tf.config.experimental.set_memory_growth(physical_device[0],True)"
   ]
  },
  {
   "cell_type": "markdown",
   "metadata": {},
   "source": [
    "###"
   ]
  },
  {
   "cell_type": "code",
   "execution_count": 24,
   "metadata": {},
   "outputs": [
    {
     "name": "stdout",
     "output_type": "stream",
     "text": [
      "[name: \"/device:CPU:0\"\n",
      "device_type: \"CPU\"\n",
      "memory_limit: 268435456\n",
      "locality {\n",
      "}\n",
      "incarnation: 3721891155476576608\n",
      "xla_global_id: -1\n",
      ", name: \"/device:GPU:0\"\n",
      "device_type: \"GPU\"\n",
      "memory_limit: 11577327616\n",
      "locality {\n",
      "  bus_id: 1\n",
      "  links {\n",
      "  }\n",
      "}\n",
      "incarnation: 7112988384898733833\n",
      "physical_device_desc: \"device: 0, name: NVIDIA RTX A5000 Laptop GPU, pci bus id: 0000:01:00.0, compute capability: 8.6\"\n",
      "xla_global_id: 416903419\n",
      "]\n",
      "Num GPUs Available:  1\n",
      "[PhysicalDevice(name='/physical_device:GPU:0', device_type='GPU')]\n"
     ]
    },
    {
     "name": "stderr",
     "output_type": "stream",
     "text": [
      "2024-08-19 14:34:28.403586: I external/local_xla/xla/stream_executor/cuda/cuda_executor.cc:984] could not open file to read NUMA node: /sys/bus/pci/devices/0000:01:00.0/numa_node\n",
      "Your kernel may have been built without NUMA support.\n",
      "2024-08-19 14:34:28.403947: I external/local_xla/xla/stream_executor/cuda/cuda_executor.cc:984] could not open file to read NUMA node: /sys/bus/pci/devices/0000:01:00.0/numa_node\n",
      "Your kernel may have been built without NUMA support.\n",
      "2024-08-19 14:34:28.404036: I external/local_xla/xla/stream_executor/cuda/cuda_executor.cc:984] could not open file to read NUMA node: /sys/bus/pci/devices/0000:01:00.0/numa_node\n",
      "Your kernel may have been built without NUMA support.\n",
      "2024-08-19 14:34:28.419051: I external/local_xla/xla/stream_executor/cuda/cuda_executor.cc:984] could not open file to read NUMA node: /sys/bus/pci/devices/0000:01:00.0/numa_node\n",
      "Your kernel may have been built without NUMA support.\n",
      "2024-08-19 14:34:28.419197: I external/local_xla/xla/stream_executor/cuda/cuda_executor.cc:984] could not open file to read NUMA node: /sys/bus/pci/devices/0000:01:00.0/numa_node\n",
      "Your kernel may have been built without NUMA support.\n",
      "2024-08-19 14:34:28.419204: I tensorflow/core/common_runtime/gpu/gpu_device.cc:2019] Could not identify NUMA node of platform GPU id 0, defaulting to 0.  Your kernel may not have been built with NUMA support.\n",
      "2024-08-19 14:34:28.419248: I external/local_xla/xla/stream_executor/cuda/cuda_executor.cc:984] could not open file to read NUMA node: /sys/bus/pci/devices/0000:01:00.0/numa_node\n",
      "Your kernel may have been built without NUMA support.\n",
      "2024-08-19 14:34:28.419269: I tensorflow/core/common_runtime/gpu/gpu_device.cc:1928] Created device /device:GPU:0 with 11041 MB memory:  -> device: 0, name: NVIDIA RTX A5000 Laptop GPU, pci bus id: 0000:01:00.0, compute capability: 8.6\n"
     ]
    },
    {
     "data": {
      "text/plain": [
       "[PhysicalDevice(name='/physical_device:CPU:0', device_type='CPU'),\n",
       " PhysicalDevice(name='/physical_device:GPU:0', device_type='GPU')]"
      ]
     },
     "execution_count": 24,
     "metadata": {},
     "output_type": "execute_result"
    }
   ],
   "source": [
    "from tensorflow.python.client import device_lib\n",
    "print(device_lib.list_local_devices())\n",
    "from keras import backend as K\n",
    "print(\"Num GPUs Available: \", len(tf.config.experimental.list_physical_devices('GPU')))\n",
    "tf.debugging.set_log_device_placement(False)\n",
    "gpus = tf.config.experimental.list_physical_devices('GPU')\n",
    "print(gpus)\n",
    "#tf.config.set_visible_devices([], 'CPU') # hide the CPU\n",
    "tf.config.set_visible_devices(gpus[0], 'GPU') # unhide potentially hidden GPU\n",
    "tf.config.get_visible_devices()"
   ]
  },
  {
   "cell_type": "code",
   "execution_count": 25,
   "metadata": {},
   "outputs": [
    {
     "data": {
      "text/plain": [
       "Dataset({\n",
       "    features: ['eng', 'jpn'],\n",
       "    num_rows: 1936097\n",
       "})"
      ]
     },
     "execution_count": 25,
     "metadata": {},
     "output_type": "execute_result"
    }
   ],
   "source": [
    "train_data = datasets.load_from_disk(\"dataset_jpn_eng.hf/train\")\n",
    "test_data = datasets.load_from_disk(\"dataset_jpn_eng.hf/test\")\n",
    "valid_data = datasets.load_from_disk(\"dataset_jpn_eng.hf/valid\")\n",
    "train_data"
   ]
  },
  {
   "cell_type": "markdown",
   "metadata": {},
   "source": [
    "* this was just added to make it fit\n",
    "* maybe doing a Chunked Processing would work"
   ]
  },
  {
   "cell_type": "code",
   "execution_count": 26,
   "metadata": {},
   "outputs": [],
   "source": [
    "list_of_empty=[]\n",
    "\n",
    "#\n",
    "for i in range(len(train_data)):\n",
    "    #\n",
    "    if(type(train_data[i]['eng'])==type(None) or type(train_data[i]['jpn'])==type(None)):\n",
    "        #\n",
    "        list_of_empty.append(i)"
   ]
  },
  {
   "cell_type": "code",
   "execution_count": 27,
   "metadata": {},
   "outputs": [
    {
     "name": "stderr",
     "output_type": "stream",
     "text": [
      "Parameter 'indices'=<generator object <genexpr> at 0x7ff830a074c0> of the transform datasets.arrow_dataset.Dataset.select couldn't be hashed properly, a random hash was used instead. Make sure your transforms and parameters are serializable with pickle or dill for the dataset fingerprinting and caching to work. If you reuse this transform, the caching mechanism will consider it to be different from the previous calls and recompute everything. This warning is only showed once. Subsequent hashing failures won't be showed.\n"
     ]
    }
   ],
   "source": [
    "train_data = train_data.select(\n",
    "    (\n",
    "        i for i in range(len(train_data)) \n",
    "        if i not in set(list_of_empty)\n",
    "    ))"
   ]
  },
  {
   "cell_type": "code",
   "execution_count": 28,
   "metadata": {},
   "outputs": [
    {
     "name": "stdout",
     "output_type": "stream",
     "text": [
      "Found 400000 word vectors.\n"
     ]
    }
   ],
   "source": [
    "EMBEDDING_SIZE=50\n",
    "try:\n",
    "    f = open(f'glove/glove.6B.{EMBEDDING_SIZE}d.txt', encoding='utf-8')\n",
    "except FileNotFoundError:\n",
    "    !wget http://nlp.stanford.edu/data/glove.6B.zip\n",
    "    raise(\"you need to download the file then export it then unzip it and reupload to glove\")\n",
    "\n",
    "embeddings_dictionary  = dict()\n",
    "for line in f:\n",
    "    rec = line.split()\n",
    "    word = rec[0]\n",
    "    vector_dimensions = asarray(rec[1:], dtype='float32')\n",
    "    embeddings_dictionary[word] = vector_dimensions\n",
    "f.close()\n",
    "\n",
    "print('Found %s word vectors.' % len(embeddings_dictionary))"
   ]
  },
  {
   "cell_type": "code",
   "execution_count": 29,
   "metadata": {},
   "outputs": [],
   "source": [
    "train_data=train_data.train_test_split(test_size=0.003,seed=32)['test']"
   ]
  },
  {
   "cell_type": "code",
   "execution_count": 30,
   "metadata": {},
   "outputs": [
    {
     "name": "stdout",
     "output_type": "stream",
     "text": [
      "\n",
      "Total unique words in the input: 5624\n",
      "Length of longest sentence in input: 29\n"
     ]
    }
   ],
   "source": [
    "MAX_NUM_WORDS = 20000\n",
    "input_tokenizer=tf.keras.preprocessing.text.Tokenizer(num_words=MAX_NUM_WORDS)\n",
    "input_tokenizer.fit_on_texts(train_data['eng'])\n",
    "\n",
    "input_integer_seq=input_tokenizer.texts_to_sequences(train_data['eng'])\n",
    "#print(input_integer_seq)\n",
    "\n",
    "word2idx_inputs = input_tokenizer.word_index\n",
    "print('\\nTotal unique words in the input: %s'%len(word2idx_inputs))\n",
    "\n",
    "max_input_len = max(len(sen) for sen in input_integer_seq)\n",
    "print(\"Length of longest sentence in input: %g\" % max_input_len)"
   ]
  },
  {
   "cell_type": "code",
   "execution_count": 31,
   "metadata": {},
   "outputs": [
    {
     "name": "stdout",
     "output_type": "stream",
     "text": [
      "encoder_input_sequences.shape: (5809, 29)\n",
      "encoder_input_sequences[180]: [   2   14   11    4 2175    3  349    1    1    1    1    1    1    1\n",
      "    1    1    1    1    1    1    1    1    1    1    1    1    1    1\n",
      "    1]\n"
     ]
    }
   ],
   "source": [
    "encoder_input_sequences = tf.keras.utils.pad_sequences(input_integer_seq, maxlen=max_input_len)\n",
    "print(\"encoder_input_sequences.shape:\", encoder_input_sequences.shape)\n",
    "print(\"encoder_input_sequences[180]:\", encoder_input_sequences[180])"
   ]
  },
  {
   "cell_type": "code",
   "execution_count": 32,
   "metadata": {},
   "outputs": [
    {
     "name": "stdout",
     "output_type": "stream",
     "text": [
      "Total unique words in the output: 11715\n",
      "Length of longest sentence in the output: 28\n"
     ]
    }
   ],
   "source": [
    "#tokenize the output sentences(Output language)\n",
    "#\n",
    "output_tokenizer = tf.keras.preprocessing.text.Tokenizer(num_words=MAX_NUM_WORDS, filters='')\n",
    "#\n",
    "output_tokenizer.fit_on_texts(train_data[\"jpn\"]+valid_data['jpn'])\n",
    "\n",
    "#\n",
    "output_integer_seq = output_tokenizer.texts_to_sequences(train_data[\"jpn\"])\n",
    "#\n",
    "output_input_integer_seq = output_tokenizer.texts_to_sequences(train_data['jpn'])\n",
    "#print(output_input_integer_seq)\n",
    "\n",
    "#\n",
    "word2idx_outputs = output_tokenizer.word_index\n",
    "print('Total unique words in the output: %s' % len(word2idx_outputs))\n",
    "#\n",
    "num_words_output = len(word2idx_outputs) + 1\n",
    "#\n",
    "max_out_len = max(len(sen) for sen in output_integer_seq)\n",
    "\n",
    "print(\"Length of longest sentence in the output: %g\" % max_out_len)\n",
    "\n",
    "#with open('output_tokenizer_NMT.pickle', 'wb') as handle:\n",
    "#    pickle.dump(output_tokenizer, handle, protocol=4)\n"
   ]
  },
  {
   "cell_type": "code",
   "execution_count": 33,
   "metadata": {},
   "outputs": [
    {
     "name": "stdout",
     "output_type": "stream",
     "text": [
      "decoder_input_sequences.shape: (5809, 28)\n",
      "decoder_input_sequences[180]: [   2    3    4   33   14 2216    5 3069   10 2217   21   13    1    1\n",
      "    1    1    1    1    1    1    1    1    1    1    1    1    1    1]\n"
     ]
    }
   ],
   "source": [
    "decoder_input_sequences = tf.keras.utils.pad_sequences(output_input_integer_seq, maxlen=max_out_len, padding='post')\n",
    "print(\"decoder_input_sequences.shape:\", decoder_input_sequences.shape)\n",
    "print(\"decoder_input_sequences[180]:\", decoder_input_sequences[180])\n",
    "#print(word2idx_outputs[\"の\"])\n",
    "#print(word2idx_outputs[\"が\"])\n",
    "#print(word2idx_outputs[\"今\"])\n",
    "#print(word2idx_inputs[\"the\"])\n",
    "#print(word2idx_inputs['and'])"
   ]
  },
  {
   "cell_type": "code",
   "execution_count": 34,
   "metadata": {},
   "outputs": [
    {
     "name": "stdout",
     "output_type": "stream",
     "text": [
      "[ 4.1800e-01  2.4968e-01 -4.1242e-01  1.2170e-01  3.4527e-01 -4.4457e-02\n",
      " -4.9688e-01 -1.7862e-01 -6.6023e-04 -6.5660e-01  2.7843e-01 -1.4767e-01\n",
      " -5.5677e-01  1.4658e-01 -9.5095e-03  1.1658e-02  1.0204e-01 -1.2792e-01\n",
      " -8.4430e-01 -1.2181e-01 -1.6801e-02 -3.3279e-01 -1.5520e-01 -2.3131e-01\n",
      " -1.9181e-01 -1.8823e+00 -7.6746e-01  9.9051e-02 -4.2125e-01 -1.9526e-01\n",
      "  4.0071e+00 -1.8594e-01 -5.2287e-01 -3.1681e-01  5.9213e-04  7.4449e-03\n",
      "  1.7778e-01 -1.5897e-01  1.2041e-02 -5.4223e-02 -2.9871e-01 -1.5749e-01\n",
      " -3.4758e-01 -4.5637e-02 -4.4251e-01  1.8785e-01  2.7849e-03 -1.8411e-01\n",
      " -1.1514e-01 -7.8581e-01]\n"
     ]
    }
   ],
   "source": [
    "#\n",
    "num_words = min(MAX_NUM_WORDS, len(word2idx_inputs) + 1)\n",
    "#\n",
    "embedding_matrix = zeros((num_words, EMBEDDING_SIZE))\n",
    "#\n",
    "for word, index in word2idx_inputs.items():\n",
    "    #\n",
    "    embedding_vector = embeddings_dictionary.get(word)\n",
    "    if embedding_vector is not None:\n",
    "        #\n",
    "        embedding_matrix[index] = embedding_vector\n",
    "print(embeddings_dictionary[\"the\"])"
   ]
  },
  {
   "cell_type": "code",
   "execution_count": 35,
   "metadata": {},
   "outputs": [
    {
     "name": "stderr",
     "output_type": "stream",
     "text": [
      "2024-08-19 14:36:11.825203: I external/local_xla/xla/stream_executor/cuda/cuda_executor.cc:984] could not open file to read NUMA node: /sys/bus/pci/devices/0000:01:00.0/numa_node\n",
      "Your kernel may have been built without NUMA support.\n",
      "2024-08-19 14:36:11.825352: I external/local_xla/xla/stream_executor/cuda/cuda_executor.cc:984] could not open file to read NUMA node: /sys/bus/pci/devices/0000:01:00.0/numa_node\n",
      "Your kernel may have been built without NUMA support.\n",
      "2024-08-19 14:36:11.825378: I external/local_xla/xla/stream_executor/cuda/cuda_executor.cc:984] could not open file to read NUMA node: /sys/bus/pci/devices/0000:01:00.0/numa_node\n",
      "Your kernel may have been built without NUMA support.\n",
      "2024-08-19 14:36:11.825594: I external/local_xla/xla/stream_executor/cuda/cuda_executor.cc:984] could not open file to read NUMA node: /sys/bus/pci/devices/0000:01:00.0/numa_node\n",
      "Your kernel may have been built without NUMA support.\n",
      "2024-08-19 14:36:11.825605: I tensorflow/core/common_runtime/gpu/gpu_device.cc:2019] Could not identify NUMA node of platform GPU id 0, defaulting to 0.  Your kernel may not have been built with NUMA support.\n",
      "2024-08-19 14:36:11.825630: I external/local_xla/xla/stream_executor/cuda/cuda_executor.cc:984] could not open file to read NUMA node: /sys/bus/pci/devices/0000:01:00.0/numa_node\n",
      "Your kernel may have been built without NUMA support.\n",
      "2024-08-19 14:36:11.825645: I tensorflow/core/common_runtime/gpu/gpu_device.cc:1928] Created device /job:localhost/replica:0/task:0/device:GPU:0 with 11041 MB memory:  -> device: 0, name: NVIDIA RTX A5000 Laptop GPU, pci bus id: 0000:01:00.0, compute capability: 8.6\n"
     ]
    }
   ],
   "source": [
    "#\n",
    "embedding_layer = Embedding(num_words, EMBEDDING_SIZE, weights=[embedding_matrix])"
   ]
  },
  {
   "cell_type": "code",
   "execution_count": 36,
   "metadata": {},
   "outputs": [
    {
     "data": {
      "text/plain": [
       "torch.Size([5809, 28, 11716])"
      ]
     },
     "execution_count": 36,
     "metadata": {},
     "output_type": "execute_result"
    }
   ],
   "source": [
    "#\n",
    "decoder_targets_one_hot = torch.zeros(\n",
    "    #\n",
    "    (len(train_data['eng']), max_out_len, num_words_output),\n",
    "    #\n",
    "    dtype=torch.float16,\n",
    "    #\n",
    "    device='cuda')\n",
    "decoder_targets_one_hot.shape"
   ]
  },
  {
   "cell_type": "code",
   "execution_count": 37,
   "metadata": {},
   "outputs": [
    {
     "name": "stdout",
     "output_type": "stream",
     "text": [
      "decoder_output_sequences.shape: (5809, 28)\n"
     ]
    }
   ],
   "source": [
    "decoder_output_sequences = pad_sequences(output_integer_seq, maxlen=max_out_len, padding='post')\n",
    "print(\"decoder_output_sequences.shape:\", decoder_output_sequences.shape)"
   ]
  },
  {
   "cell_type": "code",
   "execution_count": 38,
   "metadata": {},
   "outputs": [],
   "source": [
    "BATCH_SIZE = 64\n",
    "EPOCHS = 20\n",
    "LSTM_NODES =256"
   ]
  },
  {
   "cell_type": "code",
   "execution_count": 39,
   "metadata": {},
   "outputs": [],
   "source": [
    "for i, d in enumerate(decoder_output_sequences):\n",
    "    for t, word in enumerate(d):\n",
    "        try:\n",
    "            decoder_targets_one_hot[i, t, word] = 1\n",
    "        except:\n",
    "            break\n",
    "encoder_inputs = Input(shape=(max_input_len,))\n",
    "x = embedding_layer(encoder_inputs)\n",
    "encoder = LSTM(LSTM_NODES, return_state=True)\n",
    "\n",
    "encoder_outputs, h, c = encoder(x)\n",
    "encoder_states = [h, c]\n"
   ]
  },
  {
   "cell_type": "code",
   "execution_count": 40,
   "metadata": {},
   "outputs": [],
   "source": [
    "decoder_inputs = Input(shape=(max_out_len,))\n",
    "\n",
    "decoder_embedding = Embedding(num_words_output, LSTM_NODES)\n",
    "decoder_inputs_x = decoder_embedding(decoder_inputs)\n",
    "\n",
    "decoder_lstm = LSTM(LSTM_NODES, return_sequences=True, return_state=True)\n",
    "decoder_outputs, _, _ = decoder_lstm(decoder_inputs_x, initial_state=encoder_states)"
   ]
  },
  {
   "cell_type": "code",
   "execution_count": 41,
   "metadata": {},
   "outputs": [],
   "source": [
    "decoder_dense = Dense(num_words_output, activation='softmax')\n",
    "decoder_outputs = decoder_dense(decoder_outputs)"
   ]
  },
  {
   "cell_type": "code",
   "execution_count": 42,
   "metadata": {},
   "outputs": [
    {
     "data": {
      "text/html": [
       "<pre style=\"white-space:pre;overflow-x:auto;line-height:normal;font-family:Menlo,'DejaVu Sans Mono',consolas,'Courier New',monospace\"><span style=\"font-weight: bold\">Model: \"functional\"</span>\n",
       "</pre>\n"
      ],
      "text/plain": [
       "\u001b[1mModel: \"functional\"\u001b[0m\n"
      ]
     },
     "metadata": {},
     "output_type": "display_data"
    },
    {
     "data": {
      "text/html": [
       "<pre style=\"white-space:pre;overflow-x:auto;line-height:normal;font-family:Menlo,'DejaVu Sans Mono',consolas,'Courier New',monospace\">┏━━━━━━━━━━━━━━━━━━━━━┳━━━━━━━━━━━━━━━━━━━┳━━━━━━━━━━━━┳━━━━━━━━━━━━━━━━━━━┓\n",
       "┃<span style=\"font-weight: bold\"> Layer (type)        </span>┃<span style=\"font-weight: bold\"> Output Shape      </span>┃<span style=\"font-weight: bold\">    Param # </span>┃<span style=\"font-weight: bold\"> Connected to      </span>┃\n",
       "┡━━━━━━━━━━━━━━━━━━━━━╇━━━━━━━━━━━━━━━━━━━╇━━━━━━━━━━━━╇━━━━━━━━━━━━━━━━━━━┩\n",
       "│ input_layer         │ (<span style=\"color: #00d7ff; text-decoration-color: #00d7ff\">None</span>, <span style=\"color: #00af00; text-decoration-color: #00af00\">29</span>)        │          <span style=\"color: #00af00; text-decoration-color: #00af00\">0</span> │ -                 │\n",
       "│ (<span style=\"color: #0087ff; text-decoration-color: #0087ff\">InputLayer</span>)        │                   │            │                   │\n",
       "├─────────────────────┼───────────────────┼────────────┼───────────────────┤\n",
       "│ input_layer_1       │ (<span style=\"color: #00d7ff; text-decoration-color: #00d7ff\">None</span>, <span style=\"color: #00af00; text-decoration-color: #00af00\">28</span>)        │          <span style=\"color: #00af00; text-decoration-color: #00af00\">0</span> │ -                 │\n",
       "│ (<span style=\"color: #0087ff; text-decoration-color: #0087ff\">InputLayer</span>)        │                   │            │                   │\n",
       "├─────────────────────┼───────────────────┼────────────┼───────────────────┤\n",
       "│ embedding           │ (<span style=\"color: #00d7ff; text-decoration-color: #00d7ff\">None</span>, <span style=\"color: #00af00; text-decoration-color: #00af00\">29</span>, <span style=\"color: #00af00; text-decoration-color: #00af00\">50</span>)    │    <span style=\"color: #00af00; text-decoration-color: #00af00\">281,250</span> │ input_layer[<span style=\"color: #00af00; text-decoration-color: #00af00\">0</span>][<span style=\"color: #00af00; text-decoration-color: #00af00\">0</span>] │\n",
       "│ (<span style=\"color: #0087ff; text-decoration-color: #0087ff\">Embedding</span>)         │                   │            │                   │\n",
       "├─────────────────────┼───────────────────┼────────────┼───────────────────┤\n",
       "│ embedding_1         │ (<span style=\"color: #00d7ff; text-decoration-color: #00d7ff\">None</span>, <span style=\"color: #00af00; text-decoration-color: #00af00\">28</span>, <span style=\"color: #00af00; text-decoration-color: #00af00\">256</span>)   │  <span style=\"color: #00af00; text-decoration-color: #00af00\">2,999,296</span> │ input_layer_1[<span style=\"color: #00af00; text-decoration-color: #00af00\">0</span>]… │\n",
       "│ (<span style=\"color: #0087ff; text-decoration-color: #0087ff\">Embedding</span>)         │                   │            │                   │\n",
       "├─────────────────────┼───────────────────┼────────────┼───────────────────┤\n",
       "│ lstm (<span style=\"color: #0087ff; text-decoration-color: #0087ff\">LSTM</span>)         │ [(<span style=\"color: #00d7ff; text-decoration-color: #00d7ff\">None</span>, <span style=\"color: #00af00; text-decoration-color: #00af00\">256</span>),     │    <span style=\"color: #00af00; text-decoration-color: #00af00\">314,368</span> │ embedding[<span style=\"color: #00af00; text-decoration-color: #00af00\">0</span>][<span style=\"color: #00af00; text-decoration-color: #00af00\">0</span>]   │\n",
       "│                     │ (<span style=\"color: #00d7ff; text-decoration-color: #00d7ff\">None</span>, <span style=\"color: #00af00; text-decoration-color: #00af00\">256</span>),      │            │                   │\n",
       "│                     │ (<span style=\"color: #00d7ff; text-decoration-color: #00d7ff\">None</span>, <span style=\"color: #00af00; text-decoration-color: #00af00\">256</span>)]      │            │                   │\n",
       "├─────────────────────┼───────────────────┼────────────┼───────────────────┤\n",
       "│ lstm_1 (<span style=\"color: #0087ff; text-decoration-color: #0087ff\">LSTM</span>)       │ [(<span style=\"color: #00d7ff; text-decoration-color: #00d7ff\">None</span>, <span style=\"color: #00af00; text-decoration-color: #00af00\">28</span>, <span style=\"color: #00af00; text-decoration-color: #00af00\">256</span>), │    <span style=\"color: #00af00; text-decoration-color: #00af00\">525,312</span> │ embedding_1[<span style=\"color: #00af00; text-decoration-color: #00af00\">0</span>][<span style=\"color: #00af00; text-decoration-color: #00af00\">0</span>… │\n",
       "│                     │ (<span style=\"color: #00d7ff; text-decoration-color: #00d7ff\">None</span>, <span style=\"color: #00af00; text-decoration-color: #00af00\">256</span>),      │            │ lstm[<span style=\"color: #00af00; text-decoration-color: #00af00\">0</span>][<span style=\"color: #00af00; text-decoration-color: #00af00\">1</span>],       │\n",
       "│                     │ (<span style=\"color: #00d7ff; text-decoration-color: #00d7ff\">None</span>, <span style=\"color: #00af00; text-decoration-color: #00af00\">256</span>)]      │            │ lstm[<span style=\"color: #00af00; text-decoration-color: #00af00\">0</span>][<span style=\"color: #00af00; text-decoration-color: #00af00\">2</span>]        │\n",
       "├─────────────────────┼───────────────────┼────────────┼───────────────────┤\n",
       "│ dense (<span style=\"color: #0087ff; text-decoration-color: #0087ff\">Dense</span>)       │ (<span style=\"color: #00d7ff; text-decoration-color: #00d7ff\">None</span>, <span style=\"color: #00af00; text-decoration-color: #00af00\">28</span>, <span style=\"color: #00af00; text-decoration-color: #00af00\">11716</span>) │  <span style=\"color: #00af00; text-decoration-color: #00af00\">3,011,012</span> │ lstm_1[<span style=\"color: #00af00; text-decoration-color: #00af00\">0</span>][<span style=\"color: #00af00; text-decoration-color: #00af00\">0</span>]      │\n",
       "└─────────────────────┴───────────────────┴────────────┴───────────────────┘\n",
       "</pre>\n"
      ],
      "text/plain": [
       "┏━━━━━━━━━━━━━━━━━━━━━┳━━━━━━━━━━━━━━━━━━━┳━━━━━━━━━━━━┳━━━━━━━━━━━━━━━━━━━┓\n",
       "┃\u001b[1m \u001b[0m\u001b[1mLayer (type)       \u001b[0m\u001b[1m \u001b[0m┃\u001b[1m \u001b[0m\u001b[1mOutput Shape     \u001b[0m\u001b[1m \u001b[0m┃\u001b[1m \u001b[0m\u001b[1m   Param #\u001b[0m\u001b[1m \u001b[0m┃\u001b[1m \u001b[0m\u001b[1mConnected to     \u001b[0m\u001b[1m \u001b[0m┃\n",
       "┡━━━━━━━━━━━━━━━━━━━━━╇━━━━━━━━━━━━━━━━━━━╇━━━━━━━━━━━━╇━━━━━━━━━━━━━━━━━━━┩\n",
       "│ input_layer         │ (\u001b[38;5;45mNone\u001b[0m, \u001b[38;5;34m29\u001b[0m)        │          \u001b[38;5;34m0\u001b[0m │ -                 │\n",
       "│ (\u001b[38;5;33mInputLayer\u001b[0m)        │                   │            │                   │\n",
       "├─────────────────────┼───────────────────┼────────────┼───────────────────┤\n",
       "│ input_layer_1       │ (\u001b[38;5;45mNone\u001b[0m, \u001b[38;5;34m28\u001b[0m)        │          \u001b[38;5;34m0\u001b[0m │ -                 │\n",
       "│ (\u001b[38;5;33mInputLayer\u001b[0m)        │                   │            │                   │\n",
       "├─────────────────────┼───────────────────┼────────────┼───────────────────┤\n",
       "│ embedding           │ (\u001b[38;5;45mNone\u001b[0m, \u001b[38;5;34m29\u001b[0m, \u001b[38;5;34m50\u001b[0m)    │    \u001b[38;5;34m281,250\u001b[0m │ input_layer[\u001b[38;5;34m0\u001b[0m][\u001b[38;5;34m0\u001b[0m] │\n",
       "│ (\u001b[38;5;33mEmbedding\u001b[0m)         │                   │            │                   │\n",
       "├─────────────────────┼───────────────────┼────────────┼───────────────────┤\n",
       "│ embedding_1         │ (\u001b[38;5;45mNone\u001b[0m, \u001b[38;5;34m28\u001b[0m, \u001b[38;5;34m256\u001b[0m)   │  \u001b[38;5;34m2,999,296\u001b[0m │ input_layer_1[\u001b[38;5;34m0\u001b[0m]… │\n",
       "│ (\u001b[38;5;33mEmbedding\u001b[0m)         │                   │            │                   │\n",
       "├─────────────────────┼───────────────────┼────────────┼───────────────────┤\n",
       "│ lstm (\u001b[38;5;33mLSTM\u001b[0m)         │ [(\u001b[38;5;45mNone\u001b[0m, \u001b[38;5;34m256\u001b[0m),     │    \u001b[38;5;34m314,368\u001b[0m │ embedding[\u001b[38;5;34m0\u001b[0m][\u001b[38;5;34m0\u001b[0m]   │\n",
       "│                     │ (\u001b[38;5;45mNone\u001b[0m, \u001b[38;5;34m256\u001b[0m),      │            │                   │\n",
       "│                     │ (\u001b[38;5;45mNone\u001b[0m, \u001b[38;5;34m256\u001b[0m)]      │            │                   │\n",
       "├─────────────────────┼───────────────────┼────────────┼───────────────────┤\n",
       "│ lstm_1 (\u001b[38;5;33mLSTM\u001b[0m)       │ [(\u001b[38;5;45mNone\u001b[0m, \u001b[38;5;34m28\u001b[0m, \u001b[38;5;34m256\u001b[0m), │    \u001b[38;5;34m525,312\u001b[0m │ embedding_1[\u001b[38;5;34m0\u001b[0m][\u001b[38;5;34m0\u001b[0m… │\n",
       "│                     │ (\u001b[38;5;45mNone\u001b[0m, \u001b[38;5;34m256\u001b[0m),      │            │ lstm[\u001b[38;5;34m0\u001b[0m][\u001b[38;5;34m1\u001b[0m],       │\n",
       "│                     │ (\u001b[38;5;45mNone\u001b[0m, \u001b[38;5;34m256\u001b[0m)]      │            │ lstm[\u001b[38;5;34m0\u001b[0m][\u001b[38;5;34m2\u001b[0m]        │\n",
       "├─────────────────────┼───────────────────┼────────────┼───────────────────┤\n",
       "│ dense (\u001b[38;5;33mDense\u001b[0m)       │ (\u001b[38;5;45mNone\u001b[0m, \u001b[38;5;34m28\u001b[0m, \u001b[38;5;34m11716\u001b[0m) │  \u001b[38;5;34m3,011,012\u001b[0m │ lstm_1[\u001b[38;5;34m0\u001b[0m][\u001b[38;5;34m0\u001b[0m]      │\n",
       "└─────────────────────┴───────────────────┴────────────┴───────────────────┘\n"
      ]
     },
     "metadata": {},
     "output_type": "display_data"
    },
    {
     "data": {
      "text/html": [
       "<pre style=\"white-space:pre;overflow-x:auto;line-height:normal;font-family:Menlo,'DejaVu Sans Mono',consolas,'Courier New',monospace\"><span style=\"font-weight: bold\"> Total params: </span><span style=\"color: #00af00; text-decoration-color: #00af00\">7,131,238</span> (27.20 MB)\n",
       "</pre>\n"
      ],
      "text/plain": [
       "\u001b[1m Total params: \u001b[0m\u001b[38;5;34m7,131,238\u001b[0m (27.20 MB)\n"
      ]
     },
     "metadata": {},
     "output_type": "display_data"
    },
    {
     "data": {
      "text/html": [
       "<pre style=\"white-space:pre;overflow-x:auto;line-height:normal;font-family:Menlo,'DejaVu Sans Mono',consolas,'Courier New',monospace\"><span style=\"font-weight: bold\"> Trainable params: </span><span style=\"color: #00af00; text-decoration-color: #00af00\">7,131,238</span> (27.20 MB)\n",
       "</pre>\n"
      ],
      "text/plain": [
       "\u001b[1m Trainable params: \u001b[0m\u001b[38;5;34m7,131,238\u001b[0m (27.20 MB)\n"
      ]
     },
     "metadata": {},
     "output_type": "display_data"
    },
    {
     "data": {
      "text/html": [
       "<pre style=\"white-space:pre;overflow-x:auto;line-height:normal;font-family:Menlo,'DejaVu Sans Mono',consolas,'Courier New',monospace\"><span style=\"font-weight: bold\"> Non-trainable params: </span><span style=\"color: #00af00; text-decoration-color: #00af00\">0</span> (0.00 B)\n",
       "</pre>\n"
      ],
      "text/plain": [
       "\u001b[1m Non-trainable params: \u001b[0m\u001b[38;5;34m0\u001b[0m (0.00 B)\n"
      ]
     },
     "metadata": {},
     "output_type": "display_data"
    },
    {
     "ename": "",
     "evalue": "",
     "output_type": "error",
     "traceback": [
      "\u001b[1;31mThe Kernel crashed while executing code in the current cell or a previous cell. \n",
      "\u001b[1;31mPlease review the code in the cell(s) to identify a possible cause of the failure. \n",
      "\u001b[1;31mClick <a href='https://aka.ms/vscodeJupyterKernelCrash'>here</a> for more info. \n",
      "\u001b[1;31mView Jupyter <a href='command:jupyter.viewOutput'>log</a> for further details."
     ]
    }
   ],
   "source": [
    "#encoder_inputs -> (max_out_len,) -> max(len(sen) for sen in output_integer_seq)\n",
    "\n",
    "model = Model([encoder_inputs,decoder_inputs], decoder_outputs)\n",
    "model.compile(\n",
    "    optimizer=\"rmsprop\",#'Adam',\n",
    "    #CategoricalCrossentropy preforms well but, can't get out\n",
    "    loss='categorical_crossentropy',\n",
    "    metrics=['accuracy']\n",
    ")\n",
    "model.summary()"
   ]
  },
  {
   "cell_type": "code",
   "execution_count": 43,
   "metadata": {},
   "outputs": [
    {
     "name": "stdout",
     "output_type": "stream",
     "text": [
      "encoder input shape: (5809, 29) decoder input shape (5809, 28) decoder target one hot shape torch.Size([5809, 28, 11716])\n"
     ]
    },
    {
     "ename": "",
     "evalue": "",
     "output_type": "error",
     "traceback": [
      "\u001b[1;31mCanceled future for execute_request message before replies were done"
     ]
    },
    {
     "ename": "",
     "evalue": "",
     "output_type": "error",
     "traceback": [
      "\u001b[1;31mCanceled future for execute_request message before replies were done. \n",
      "\u001b[1;31mView Jupyter <a href='command:jupyter.viewOutput'>log</a> for further details."
     ]
    }
   ],
   "source": [
    "#es = EarlyStopping(monitor='val_loss', mode='min', verbose=1)\n",
    "#es = EarlyStopping(monitor='val_loss', mode='min', verbose=1)\n",
    "print(f\"encoder input shape: {encoder_input_sequences.shape} decoder input shape {decoder_input_sequences.shape} decoder target one hot shape {decoder_targets_one_hot.shape}\")\n",
    "history = model.fit([encoder_input_sequences, decoder_input_sequences], decoder_targets_one_hot.cpu().data.numpy(),\n",
    "    batch_size=BATCH_SIZE,\n",
    "    epochs=14,\n",
    "    #callbacks=[es],\n",
    "    validation_split=0.1\n",
    ")"
   ]
  },
  {
   "cell_type": "code",
   "execution_count": null,
   "metadata": {},
   "outputs": [
    {
     "data": {
      "image/png": "[encoded data removed]",
      "text/plain": [
       "<Figure size 640x480 with 1 Axes>"
      ]
     },
     "metadata": {},
     "output_type": "display_data"
    }
   ],
   "source": [
    "model.save('seq2seq_eng-jpn.keras')\n",
    "# %matplotlib inline\n",
    "plt.title('Model Loss')\n",
    "plt.plot(history.history['loss'])\n",
    "plt.plot(history.history['val_loss'])\n",
    "plt.ylabel('loss')\n",
    "plt.xlabel('epoch')\n",
    "plt.legend(['train', 'test'], loc='upper left')\n",
    "plt.show()\n"
   ]
  },
  {
   "cell_type": "code",
   "execution_count": null,
   "metadata": {},
   "outputs": [
    {
     "name": "stderr",
     "output_type": "stream",
     "text": [
      "/home/jace/anaconda3/envs/rapids-24.06/lib/python3.11/site-packages/keras/src/saving/saving_lib.py:576: UserWarning: Skipping variable loading for optimizer 'rmsprop', because it has 2 variables whereas the saved optimizer has 12 variables. \n",
      "  saveable.load_own_variables(weights_store.get(inner_path))\n"
     ]
    }
   ],
   "source": [
    "encoder_model = Model(encoder_inputs, encoder_states)\n",
    "model.compile(optimizer='rmsprop', loss='categorical_crossentropy')\n",
    "model.load_weights('seq2seq_eng-jpn.keras')\n"
   ]
  },
  {
   "cell_type": "code",
   "execution_count": null,
   "metadata": {},
   "outputs": [],
   "source": [
    "decoder_state_input_h = Input(shape=(LSTM_NODES,))\n",
    "decoder_state_input_c = Input(shape=(LSTM_NODES,))\n",
    "decoder_states_inputs = [decoder_state_input_h, decoder_state_input_c]\n",
    "\n",
    "decoder_inputs_single = Input(shape=(1,))\n",
    "decoder_inputs_single_x = decoder_embedding(decoder_inputs_single)\n"
   ]
  },
  {
   "cell_type": "code",
   "execution_count": null,
   "metadata": {},
   "outputs": [],
   "source": [
    "decoder_outputs, h, c = decoder_lstm(decoder_inputs_single_x, initial_state=decoder_states_inputs)"
   ]
  },
  {
   "cell_type": "code",
   "execution_count": null,
   "metadata": {},
   "outputs": [],
   "source": [
    "decoder_states = [h, c]\n",
    "decoder_outputs = decoder_dense(decoder_outputs)"
   ]
  },
  {
   "cell_type": "code",
   "execution_count": null,
   "metadata": {},
   "outputs": [],
   "source": [
    "decoder_model = Model(\n",
    "    [decoder_inputs_single] + decoder_states_inputs,\n",
    "    [decoder_outputs] + decoder_states\n",
    ")"
   ]
  },
  {
   "cell_type": "code",
   "execution_count": null,
   "metadata": {},
   "outputs": [],
   "source": [
    "idx2word_input = {v:k for k, v in word2idx_inputs.items()}\n",
    "idx2word_target = {v:k for k, v in word2idx_outputs.items()}"
   ]
  },
  {
   "cell_type": "code",
   "execution_count": null,
   "metadata": {},
   "outputs": [],
   "source": [
    "def translate_sentence(input_seq):\n",
    "    states_value = encoder_model.predict(input_seq)\n",
    "    target_seq = np.zeros((1, 1))\n",
    "    target_seq[0, 0] = word2idx_outputs['<eos>']\n",
    "    eos = word2idx_outputs['<eos>']\n",
    "    output_sentence = []\n",
    "\n",
    "    for _ in range(max_out_len):\n",
    "        output_tokens, h, c = decoder_model.predict([target_seq] + states_value)\n",
    "        idx = np.argmax(output_tokens[0, 0, :])\n",
    "\n",
    "        if eos == idx:\n",
    "            break\n",
    "\n",
    "        word = ''\n",
    "\n",
    "        if idx > 0:\n",
    "            word = idx2word_target[idx]\n",
    "            output_sentence.append(word)\n",
    "\n",
    "        target_seq[0, 0] = idx\n",
    "        states_value = [h, c]\n",
    "\n",
    "    return ' '.join(output_sentence)\n"
   ]
  },
  {
   "cell_type": "code",
   "execution_count": null,
   "metadata": {},
   "outputs": [
    {
     "name": "stdout",
     "output_type": "stream",
     "text": [
      "\u001b[1m1/1\u001b[0m \u001b[32m━━━━━━━━━━━━━━━━━━━━\u001b[0m\u001b[37m\u001b[0m \u001b[1m0s\u001b[0m 144ms/step\n",
      "\u001b[1m1/1\u001b[0m \u001b[32m━━━━━━━━━━━━━━━━━━━━\u001b[0m\u001b[37m\u001b[0m \u001b[1m0s\u001b[0m 138ms/step\n",
      "Input Language :  you ll figure out a way to save em both  <eos>  <eos>  <eos>  <eos>  <eos>  <eos>  <eos>  <eos>  <eos>  <eos>  <eos>  <eos>  <eos>  <eos>  <eos>\n",
      "Actual translation :  2 つ の ウィルス を 防ぐ 方法 を 考え出せる わ  <eos>  <eos>  <eos>  <eos>  <eos>  <eos>  <eos>  <eos>  <eos>  <eos>  <eos>  <eos>  <eos>  <eos>  <eos>\n",
      "French translation :  \n"
     ]
    }
   ],
   "source": [
    "i = np.random.choice(len(train_data['eng']))\n",
    "input_seq = encoder_input_sequences[i:i+1]\n",
    "translation = translate_sentence(input_seq)\n",
    "print('Input Language : ', train_data['eng'][i])\n",
    "print('Actual translation : ', train_data['jpn'][i])\n",
    "print('French translation : ', translation)\n"
   ]
  },
  {
   "cell_type": "code",
   "execution_count": null,
   "metadata": {},
   "outputs": [
    {
     "name": "stdout",
     "output_type": "stream",
     "text": [
      "\u001b[1m1/1\u001b[0m \u001b[32m━━━━━━━━━━━━━━━━━━━━\u001b[0m\u001b[37m\u001b[0m \u001b[1m0s\u001b[0m 33ms/step\n",
      "\u001b[1m1/1\u001b[0m \u001b[32m━━━━━━━━━━━━━━━━━━━━\u001b[0m\u001b[37m\u001b[0m \u001b[1m0s\u001b[0m 31ms/step\n",
      "output token [[[6.5204486e-09 9.8166060e-01 1.1938941e-12 ... 5.9545706e-09\n",
      "   5.5772356e-09 6.2526322e-09]]] h [[ 0.8681065  -0.99593014  0.97607565 -0.96732646  0.9459243  -0.96978724\n",
      "   0.8808548  -0.8332239   0.6975851  -0.98756355  0.9922315   0.99779505\n",
      "   0.8452051  -0.7781461  -0.9503466   0.97795796  0.97434807 -0.96760815\n",
      "   0.93346435 -0.75742424 -0.95958173 -0.97265536 -0.98097336  0.9850526\n",
      "  -0.9730412   0.56387097 -0.9648179   0.9635805  -0.9755307  -0.9557893\n",
      "  -0.97767574 -0.8123845  -0.9826601  -0.9952677  -0.9564586   0.74809116\n",
      "  -0.8916091  -0.98055035 -0.93391705 -0.9912324   0.9756926   0.9932177\n",
      "   0.9668309  -0.9844017   0.970612   -0.9801785   0.9700546  -0.9772632\n",
      "  -0.9392921   0.92563826 -0.98267204  0.97664106  0.9832507   0.98175067\n",
      "   0.96255386 -0.9756411   0.98212963  0.97781223  0.894677   -0.9793843\n",
      "   0.92615795  0.9990207   0.72659355  0.89564836 -0.66506666 -0.97071075\n",
      "  -0.97548556 -0.9971405  -0.9774091  -0.7167715  -0.9735476   0.9992577\n",
      "   0.9867219  -0.66962194 -0.9964418   0.96643466 -0.75846386  0.97404766\n",
      "  -0.954298   -0.97191405  0.7696684  -0.8593003  -0.9757971   0.95857054\n",
      "  -0.95610076 -0.96951675 -0.6554587   0.9983308  -0.19938646  0.98613733\n",
      "   0.97043765  0.8568404   0.9763633   0.95485324 -0.7542128  -0.96181345\n",
      "  -0.9582601  -0.8322297   0.9117449   0.74850845 -0.89894986 -0.97547114\n",
      "  -0.95652384  0.66853803 -0.74358755  0.9465465  -0.9088709  -0.99969566\n",
      "   0.8734699   0.98048156  0.9841209  -0.9810639  -0.991341    0.9852181\n",
      "  -0.844187   -0.8635976  -0.9906078  -0.9076174   0.98857784 -0.34178343\n",
      "   0.7487463  -0.97243655  0.9802468  -0.9961458  -0.9616962   0.9694064\n",
      "   0.9975407   0.9323699  -0.9779814   0.97570854  0.986402   -0.73072284\n",
      "   0.9865062   0.93912303  0.75642127 -0.67598593  0.975524    0.9692932\n",
      "   0.9801468  -0.9723429  -0.5582029   0.98099226 -0.98324823  0.9781043\n",
      "   0.9747527  -0.817178    0.8510515  -0.96022415  0.9062711   0.57881\n",
      "  -0.977557    0.82667214 -0.9697773  -0.99197006  0.9845057   0.74668384\n",
      "  -0.9927944   0.9937328   0.9941857   0.9159188   0.9423168  -0.7880271\n",
      "   0.7423642  -0.96634245  0.93501645  0.7474827   0.74759406  0.9885932\n",
      "   0.44808894 -0.9548939   0.9729476   0.9714333   0.9582972  -0.7569227\n",
      "  -0.9729845   0.97035235 -0.9873839   0.96511567  0.9908665  -0.991586\n",
      "  -0.9324317   0.97915167  0.6400728   0.76847935  0.941284    0.9371917\n",
      "   0.9890945   0.9444805  -0.93374723 -0.98384815 -0.8808261   0.6980066\n",
      "  -0.9842064   0.9162603  -0.985867   -0.96724147  0.95292413 -0.72193164\n",
      "  -0.97540903 -0.97652376 -0.97144514 -0.93205947  0.97091526 -0.9566241\n",
      "   0.9737458   0.96966994  0.9806065  -0.80509704  0.9513717  -0.9694323\n",
      "  -0.9925347   0.9278329  -0.94695663 -0.98853564 -0.99460995  0.9551501\n",
      "  -0.9787757  -0.9721389  -0.96587515  0.8119197   0.9763587  -0.9991349\n",
      "   0.9929324  -0.9681316   0.7129232   0.9251522   0.94815224 -0.9900921\n",
      "  -0.9606708  -0.98594683  0.9998667   0.92046434 -0.7381848   0.95329016\n",
      "   0.98311716 -0.8600578  -0.97544074 -0.9804787  -0.9980688  -0.96663433\n",
      "  -0.73343    -0.74452275  0.99525154 -0.9978982   0.96535146 -0.9981936\n",
      "   0.9814769  -0.83007437 -0.97690713  0.96332145 -0.97071445 -0.7457806\n",
      "  -0.7683767  -0.97603637 -0.86301655  0.9424142 ]] c [[ 4.1276665  -3.7083492   4.438744   -4.766625    3.3991816  -2.5354762\n",
      "   5.4397645  -1.2019528   0.8776823  -4.1859217   3.5143287   3.5931282\n",
      "   4.5136385  -1.0528401  -4.046735    4.388753    4.781476   -3.3141026\n",
      "   3.8722825  -0.9935809  -2.3738382  -5.793311   -2.7038748   4.2151804\n",
      "  -5.0705137   0.6419662  -4.3853297   3.3551323  -5.15489    -3.5041203\n",
      "  -3.8189387  -3.2219696  -4.3972178  -4.3307204  -3.8719194   3.398579\n",
      "  -1.435959   -4.9142933  -4.3032146  -2.7986908   4.193034    4.3176575\n",
      "   4.073611   -4.1618834   5.1472044  -3.9034107   3.3814125  -4.356864\n",
      "  -4.4171634   3.808584   -4.3189573   4.868403    4.2862773   4.0053163\n",
      "   4.655186   -2.2440236   5.0233335   3.4937713   4.297597   -4.6130977\n",
      "   4.425501    7.7794404   0.92330265  3.490077   -0.8111543  -4.4799595\n",
      "  -4.7675385  -8.76986    -4.19679    -0.9806573  -4.6211305   4.7699947\n",
      "   2.9255483  -0.81207114 -5.1590714   3.7184298  -0.9965331   4.1667542\n",
      "  -4.3333826  -3.582756    4.638569   -2.787167   -3.660975    4.299305\n",
      "  -5.0514574  -3.9497888  -0.7907053   4.345556   -0.20230049  2.8787673\n",
      "   4.2727795   4.142891    3.2888587   3.3090196  -0.9861414  -2.3074\n",
      "  -4.4839535  -1.2014831   1.5501307   0.97135913 -2.659584   -3.9736996\n",
      "  -2.9880283   0.81230843 -0.96062726  2.8109298  -3.6951659  -4.5909147\n",
      "   1.3563752   3.235139    5.184651   -4.152738   -3.0451488   4.964675\n",
      "  -4.0466704  -2.2009976  -2.9436166  -3.7658267   4.2806373  -0.35799977\n",
      "   0.9715844  -3.9674797   3.8612127  -4.397624   -3.4278755   2.1085925\n",
      "   3.9383156   2.17403    -3.5310125   4.8238516   4.4641185  -0.93304276\n",
      "   6.0759144   5.0467777   0.99039805 -0.82418543  3.540889    4.2970214\n",
      "   5.262377   -4.753425   -0.6386533   4.6585236  -3.3336012   3.8457325\n",
      "   4.003446   -1.1675156   6.0700645  -5.3273273   3.1555133   0.6618538\n",
      "  -3.444761    1.1853336  -2.4604917  -3.0415652   4.432648    0.9691225\n",
      "  -3.8769917   3.1821024   3.3192112   1.947933    3.8649511  -1.0678627\n",
      "   0.9591351  -2.8954706   4.044401    0.9697865   0.9693611   4.1106057\n",
      "   0.5642435  -1.9431729   4.122695    3.401536    3.1213655  -0.9912644\n",
      "  -3.5858707   3.8196638  -4.547897    4.478283    3.2727432  -3.1588678\n",
      "  -4.3975797   4.5194364   0.76059693  1.0183171   4.11348     3.5270417\n",
      "   4.3886886   4.378302   -1.740127   -4.896691   -4.7160172   3.1757545\n",
      "  -4.647322    4.1728196  -2.5001874  -4.4236317   3.2449896  -0.91345304\n",
      "  -4.046703   -4.2062397  -4.1659575  -3.6517282   3.3767564  -3.7217896\n",
      "   5.232995    4.342486    4.6300993  -1.1198107   4.0757003  -3.4442239\n",
      "  -4.855547    4.1575303  -3.5035517  -2.7719939  -3.8975096   3.994851\n",
      "  -4.1302323  -5.0755935  -5.0653152   3.0811262   4.6421494  -4.949438\n",
      "   3.1870008  -3.1319947   0.8952265   4.143323    1.8519822  -4.341312\n",
      "  -4.2688346  -4.751057    4.9072223   2.8052402  -0.94938904  3.9051142\n",
      "   3.6674552  -1.3000159  -3.5045853  -5.3306108  -7.1232505  -3.7995994\n",
      "  -0.9407426  -0.9624627   4.049943   -3.9766605   3.4241478  -5.0017138\n",
      "   5.1215158  -2.6705775  -3.661729    2.201893   -3.3731303  -0.96599203\n",
      "  -1.0186496  -5.443675   -3.2754261   3.0592253 ]]\n",
      "the index 1\n",
      "[]\n",
      "\n",
      "Input Language :  he killed himself out of fear                   \n",
      "Actual translation :  怖く なっ て 自殺 し た ん だ                 \n",
      "japanese translation :  \n"
     ]
    }
   ],
   "source": [
    "def translate_sentence(input_seq):\n",
    "    states_value = encoder_model.predict(input_seq)\n",
    "    target_seq = np.zeros((1, 1))\n",
    "    \n",
    "    eos = word2idx_outputs[\"<eos>\"]\n",
    "    target_seq[0, 0] = word2idx_outputs[\"<eos>\"]\n",
    "    output_sentence = []\n",
    "\n",
    "    for _ in range(max_out_len):\n",
    "        output_tokens, h, c = decoder_model.predict([target_seq] + states_value)\n",
    "        print(f'output token {output_tokens} h {h} c {c}')\n",
    "        idx = np.argmax(output_tokens[0, 0, :])\n",
    "        print(f\"the index {idx}\")\n",
    "        if eos == idx:\n",
    "            break\n",
    "\n",
    "        word = ''\n",
    "\n",
    "        if idx > 0:\n",
    "            word = idx2word_target[idx]\n",
    "            \n",
    "            print(word)\n",
    "            output_sentence.append(word)\n",
    "\n",
    "        target_seq[0, 0] = idx\n",
    "        \n",
    "        states_value = [h, c]\n",
    "    print(output_sentence)\n",
    "    return ' '.join(output_sentence)\n",
    "\n",
    "i = np.random.choice(len(train_data['eng']))\n",
    "input_seq = encoder_input_sequences[i:i+1]\n",
    "#print(input_seq)\n",
    "translation = translate_sentence(np.array(input_seq))\n",
    "print(translation)\n",
    "print('Input Language : ', train_data['eng'][i].replace(' <eos>', ''))\n",
    "print('Actual translation : ', train_data['jpn'][i].replace(' <eos>', ''))\n",
    "print('japanese translation : ', translation.replace(' <eos>', ''))\n",
    "#~"
   ]
  },
  {
   "cell_type": "markdown",
   "metadata": {},
   "source": [
    "# working model"
   ]
  },
  {
   "cell_type": "code",
   "execution_count": null,
   "metadata": {},
   "outputs": [],
   "source": [
    "# import the required libraries:\n",
    "import os, sys\n",
    "from keras.utils import to_categorical\n",
    "from tensorflow import keras\n",
    "from keras.models import Model\n",
    "from keras.layers import Input, LSTM, GRU, Dense, Embedding\n",
    "from keras.preprocessing.sequence import pad_sequences\n",
    "import numpy as np\n",
    "import pickle\n",
    "import matplotlib.pyplot as plt\n",
    "import tensorflow as tf\n",
    "#from keras.preprocessing import text\n",
    "from keras.callbacks import EarlyStopping\n",
    "from numpy import asarray\n",
    "from datasets import Dataset\n",
    "import datasets\n",
    "from datasets import load_dataset\n",
    "from numpy import zeros\n",
    "import tensorflow as tf\n",
    "import os\n",
    "import torch\n",
    "\n",
    "#os.environ['TF_ENABLE_ONEDNN_OPTS'] = '0'\n",
    "import tensorflow as tf\n",
    "import matplotlib.pyplot as plt\n",
    "#physical_device = tf.config.experimental.list_physical_devices('GPU')\n",
    "#print(f'Device found : {physical_device}')\n",
    "#tf.config.experimental.get_memory_growth(physical_device[0])\n",
    "#tf.config.experimental.set_memory_growth(physical_device[0],True)"
   ]
  },
  {
   "cell_type": "code",
   "execution_count": null,
   "metadata": {},
   "outputs": [
    {
     "data": {
      "text/plain": [
       "Dataset({\n",
       "    features: ['eng', 'jpn'],\n",
       "    num_rows: 1961695\n",
       "})"
      ]
     },
     "execution_count": 79,
     "metadata": {},
     "output_type": "execute_result"
    }
   ],
   "source": [
    "train_data = datasets.load_from_disk(\"dataset_jpn_eng.hf/train\")\n",
    "test_data = datasets.load_from_disk(\"dataset_jpn_eng.hf/test\")\n",
    "valid_data = datasets.load_from_disk(\"dataset_jpn_eng.hf/valid\")\n",
    "train_data"
   ]
  },
  {
   "cell_type": "code",
   "execution_count": null,
   "metadata": {},
   "outputs": [],
   "source": [
    "train_data=train_data.train_test_split(test_size=0.003,seed=32)['test']"
   ]
  },
  {
   "cell_type": "code",
   "execution_count": null,
   "metadata": {},
   "outputs": [],
   "source": [
    "\n",
    "from numpy import array\n",
    "from numpy import asarray\n",
    "from numpy import zeros\n",
    "\n",
    "embeddings_dictionary = dict()\n",
    "\n",
    "glove_file = open(f'glove/glove.6B.{EMBEDDING_SIZE}d.txt', encoding=\"utf8\")\n",
    "\n",
    "for line in glove_file:\n",
    "    rec = line.split()\n",
    "    word = rec[0]\n",
    "    vector_dimensions = asarray(rec[1:], dtype='float32')\n",
    "    embeddings_dictionary[word] = vector_dimensions\n",
    "glove_file.close()\n"
   ]
  },
  {
   "cell_type": "code",
   "execution_count": null,
   "metadata": {},
   "outputs": [],
   "source": [
    "num_words = min(MAX_NUM_WORDS, len(word2idx_inputs) + 1)\n",
    "embedding_matrix = zeros((num_words, EMBEDDING_SIZE))\n",
    "for word, index in word2idx_inputs.items():\n",
    "    embedding_vector = embeddings_dictionary.get(word)\n",
    "    if embedding_vector is not None:\n",
    "        embedding_matrix[index] = embedding_vector\n"
   ]
  },
  {
   "cell_type": "code",
   "execution_count": null,
   "metadata": {},
   "outputs": [
    {
     "name": "stdout",
     "output_type": "stream",
     "text": [
      "[ 0.35819   0.27701   0.11172  -0.2323    0.088961 -0.38405  -0.90414\n",
      "  0.8364   -0.57683  -0.53735   0.39809   0.22029  -0.45777   0.23434\n",
      " -0.11633   0.30078   0.81404  -0.1125   -0.045471 -0.23455   0.041953\n",
      "  0.011856 -0.10295   0.63302  -0.41546  -1.5055    0.76489  -0.95373\n",
      " -0.85943  -0.42165   2.6321    1.2754   -1.3012   -0.12969  -0.23035\n",
      " -0.48685  -0.1713   -0.28975  -0.56311  -0.61723  -0.077356 -0.37792\n",
      " -0.047039 -0.59064   0.19568   0.17748  -0.51369  -0.02406  -0.86568\n",
      " -0.10985 ]\n"
     ]
    }
   ],
   "source": [
    "print(embeddings_dictionary[\"join\"])\n"
   ]
  },
  {
   "cell_type": "code",
   "execution_count": null,
   "metadata": {},
   "outputs": [
    {
     "name": "stdout",
     "output_type": "stream",
     "text": [
      "[ 0.26672    -0.20723     0.071057   -1.07149994  1.1178      0.48903999\n",
      " -0.45592001  0.51819998 -0.87917     0.31479001 -0.063093    0.71833998\n",
      " -1.0115      0.069413    0.30610001 -0.035464    0.13265     0.013419\n",
      " -0.065832   -0.035541   -0.042574    0.72447997  0.27434    -0.14834\n",
      "  0.68945998 -2.48090005 -0.30622    -0.074942    0.045173   -0.41012001\n",
      "  2.28780007 -0.26370001 -0.50743002 -0.65030998 -0.15885     0.36169001\n",
      "  0.17234001  0.90324003 -0.4235     -0.44363001  0.2119      0.46470001\n",
      " -0.86723     0.037213   -0.086144   -0.31825    -0.53223002 -1.03489995\n",
      "  0.093597   -0.19408999]\n"
     ]
    }
   ],
   "source": [
    "print(embedding_matrix[464])\n"
   ]
  },
  {
   "cell_type": "code",
   "execution_count": null,
   "metadata": {},
   "outputs": [],
   "source": [
    "embedding_layer = Embedding(num_words, EMBEDDING_SIZE, weights=[embedding_matrix], input_length=max_input_len)\n"
   ]
  },
  {
   "cell_type": "code",
   "execution_count": null,
   "metadata": {},
   "outputs": [
    {
     "data": {
      "text/plain": [
       "(5886, 25, 11867)"
      ]
     },
     "execution_count": 86,
     "metadata": {},
     "output_type": "execute_result"
    }
   ],
   "source": [
    "decoder_targets_one_hot = np.zeros((\n",
    "        len(train_data['eng']),\n",
    "        max_out_len,\n",
    "        num_words_output\n",
    "    ),\n",
    "    dtype='float32'\n",
    ")\n",
    "decoder_targets_one_hot.shape\n"
   ]
  },
  {
   "cell_type": "code",
   "execution_count": null,
   "metadata": {},
   "outputs": [],
   "source": [
    "for i, d in enumerate(decoder_output_sequences):\n",
    "    for t, word in enumerate(d):\n",
    "        decoder_targets_one_hot[i, t, word] = 1\n"
   ]
  },
  {
   "cell_type": "code",
   "execution_count": null,
   "metadata": {},
   "outputs": [],
   "source": [
    "encoder_inputs = Input(shape=(max_input_len,))\n",
    "x = embedding_layer(encoder_inputs)\n",
    "encoder = LSTM(LSTM_NODES, return_state=True)\n",
    "\n",
    "encoder_outputs, h, c = encoder(x)\n",
    "encoder_states = [h, c]\n"
   ]
  },
  {
   "cell_type": "code",
   "execution_count": null,
   "metadata": {},
   "outputs": [],
   "source": [
    "decoder_inputs = Input(shape=(max_out_len,))\n",
    "\n",
    "decoder_embedding = Embedding(num_words_output, LSTM_NODES)\n",
    "decoder_inputs_x = decoder_embedding(decoder_inputs)\n",
    "\n",
    "decoder_lstm = LSTM(LSTM_NODES, return_sequences=True, return_state=True)\n",
    "decoder_outputs, _, _ = decoder_lstm(decoder_inputs_x, initial_state=encoder_states)\n"
   ]
  },
  {
   "cell_type": "code",
   "execution_count": null,
   "metadata": {},
   "outputs": [],
   "source": [
    "decoder_dense = Dense(num_words_output, activation='softmax')\n",
    "decoder_outputs = decoder_dense(decoder_outputs)\n"
   ]
  },
  {
   "cell_type": "code",
   "execution_count": null,
   "metadata": {},
   "outputs": [
    {
     "data": {
      "text/html": [
       "<pre style=\"white-space:pre;overflow-x:auto;line-height:normal;font-family:Menlo,'DejaVu Sans Mono',consolas,'Courier New',monospace\"><span style=\"font-weight: bold\">Model: \"functional_6\"</span>\n",
       "</pre>\n"
      ],
      "text/plain": [
       "\u001b[1mModel: \"functional_6\"\u001b[0m\n"
      ]
     },
     "metadata": {},
     "output_type": "display_data"
    },
    {
     "data": {
      "text/html": [
       "<pre style=\"white-space:pre;overflow-x:auto;line-height:normal;font-family:Menlo,'DejaVu Sans Mono',consolas,'Courier New',monospace\">┏━━━━━━━━━━━━━━━━━━━━━┳━━━━━━━━━━━━━━━━━━━┳━━━━━━━━━━━━┳━━━━━━━━━━━━━━━━━━━┓\n",
       "┃<span style=\"font-weight: bold\"> Layer (type)        </span>┃<span style=\"font-weight: bold\"> Output Shape      </span>┃<span style=\"font-weight: bold\">    Param # </span>┃<span style=\"font-weight: bold\"> Connected to      </span>┃\n",
       "┡━━━━━━━━━━━━━━━━━━━━━╇━━━━━━━━━━━━━━━━━━━╇━━━━━━━━━━━━╇━━━━━━━━━━━━━━━━━━━┩\n",
       "│ input_layer_10      │ (<span style=\"color: #00d7ff; text-decoration-color: #00d7ff\">None</span>, <span style=\"color: #00af00; text-decoration-color: #00af00\">25</span>)        │          <span style=\"color: #00af00; text-decoration-color: #00af00\">0</span> │ -                 │\n",
       "│ (<span style=\"color: #0087ff; text-decoration-color: #0087ff\">InputLayer</span>)        │                   │            │                   │\n",
       "├─────────────────────┼───────────────────┼────────────┼───────────────────┤\n",
       "│ input_layer_11      │ (<span style=\"color: #00d7ff; text-decoration-color: #00d7ff\">None</span>, <span style=\"color: #00af00; text-decoration-color: #00af00\">25</span>)        │          <span style=\"color: #00af00; text-decoration-color: #00af00\">0</span> │ -                 │\n",
       "│ (<span style=\"color: #0087ff; text-decoration-color: #0087ff\">InputLayer</span>)        │                   │            │                   │\n",
       "├─────────────────────┼───────────────────┼────────────┼───────────────────┤\n",
       "│ embedding_5         │ (<span style=\"color: #00d7ff; text-decoration-color: #00d7ff\">None</span>, <span style=\"color: #00af00; text-decoration-color: #00af00\">25</span>, <span style=\"color: #00af00; text-decoration-color: #00af00\">50</span>)    │    <span style=\"color: #00af00; text-decoration-color: #00af00\">283,400</span> │ input_layer_10[<span style=\"color: #00af00; text-decoration-color: #00af00\">0</span>… │\n",
       "│ (<span style=\"color: #0087ff; text-decoration-color: #0087ff\">Embedding</span>)         │                   │            │                   │\n",
       "├─────────────────────┼───────────────────┼────────────┼───────────────────┤\n",
       "│ embedding_6         │ (<span style=\"color: #00d7ff; text-decoration-color: #00d7ff\">None</span>, <span style=\"color: #00af00; text-decoration-color: #00af00\">25</span>, <span style=\"color: #00af00; text-decoration-color: #00af00\">256</span>)   │  <span style=\"color: #00af00; text-decoration-color: #00af00\">3,037,952</span> │ input_layer_11[<span style=\"color: #00af00; text-decoration-color: #00af00\">0</span>… │\n",
       "│ (<span style=\"color: #0087ff; text-decoration-color: #0087ff\">Embedding</span>)         │                   │            │                   │\n",
       "├─────────────────────┼───────────────────┼────────────┼───────────────────┤\n",
       "│ lstm_4 (<span style=\"color: #0087ff; text-decoration-color: #0087ff\">LSTM</span>)       │ [(<span style=\"color: #00d7ff; text-decoration-color: #00d7ff\">None</span>, <span style=\"color: #00af00; text-decoration-color: #00af00\">256</span>),     │    <span style=\"color: #00af00; text-decoration-color: #00af00\">314,368</span> │ embedding_5[<span style=\"color: #00af00; text-decoration-color: #00af00\">0</span>][<span style=\"color: #00af00; text-decoration-color: #00af00\">0</span>] │\n",
       "│                     │ (<span style=\"color: #00d7ff; text-decoration-color: #00d7ff\">None</span>, <span style=\"color: #00af00; text-decoration-color: #00af00\">256</span>),      │            │                   │\n",
       "│                     │ (<span style=\"color: #00d7ff; text-decoration-color: #00d7ff\">None</span>, <span style=\"color: #00af00; text-decoration-color: #00af00\">256</span>)]      │            │                   │\n",
       "├─────────────────────┼───────────────────┼────────────┼───────────────────┤\n",
       "│ lstm_5 (<span style=\"color: #0087ff; text-decoration-color: #0087ff\">LSTM</span>)       │ [(<span style=\"color: #00d7ff; text-decoration-color: #00d7ff\">None</span>, <span style=\"color: #00af00; text-decoration-color: #00af00\">25</span>, <span style=\"color: #00af00; text-decoration-color: #00af00\">256</span>), │    <span style=\"color: #00af00; text-decoration-color: #00af00\">525,312</span> │ embedding_6[<span style=\"color: #00af00; text-decoration-color: #00af00\">0</span>][<span style=\"color: #00af00; text-decoration-color: #00af00\">0</span>… │\n",
       "│                     │ (<span style=\"color: #00d7ff; text-decoration-color: #00d7ff\">None</span>, <span style=\"color: #00af00; text-decoration-color: #00af00\">256</span>),      │            │ lstm_4[<span style=\"color: #00af00; text-decoration-color: #00af00\">0</span>][<span style=\"color: #00af00; text-decoration-color: #00af00\">1</span>],     │\n",
       "│                     │ (<span style=\"color: #00d7ff; text-decoration-color: #00d7ff\">None</span>, <span style=\"color: #00af00; text-decoration-color: #00af00\">256</span>)]      │            │ lstm_4[<span style=\"color: #00af00; text-decoration-color: #00af00\">0</span>][<span style=\"color: #00af00; text-decoration-color: #00af00\">2</span>]      │\n",
       "├─────────────────────┼───────────────────┼────────────┼───────────────────┤\n",
       "│ dense_2 (<span style=\"color: #0087ff; text-decoration-color: #0087ff\">Dense</span>)     │ (<span style=\"color: #00d7ff; text-decoration-color: #00d7ff\">None</span>, <span style=\"color: #00af00; text-decoration-color: #00af00\">25</span>, <span style=\"color: #00af00; text-decoration-color: #00af00\">11867</span>) │  <span style=\"color: #00af00; text-decoration-color: #00af00\">3,049,819</span> │ lstm_5[<span style=\"color: #00af00; text-decoration-color: #00af00\">0</span>][<span style=\"color: #00af00; text-decoration-color: #00af00\">0</span>]      │\n",
       "└─────────────────────┴───────────────────┴────────────┴───────────────────┘\n",
       "</pre>\n"
      ],
      "text/plain": [
       "┏━━━━━━━━━━━━━━━━━━━━━┳━━━━━━━━━━━━━━━━━━━┳━━━━━━━━━━━━┳━━━━━━━━━━━━━━━━━━━┓\n",
       "┃\u001b[1m \u001b[0m\u001b[1mLayer (type)       \u001b[0m\u001b[1m \u001b[0m┃\u001b[1m \u001b[0m\u001b[1mOutput Shape     \u001b[0m\u001b[1m \u001b[0m┃\u001b[1m \u001b[0m\u001b[1m   Param #\u001b[0m\u001b[1m \u001b[0m┃\u001b[1m \u001b[0m\u001b[1mConnected to     \u001b[0m\u001b[1m \u001b[0m┃\n",
       "┡━━━━━━━━━━━━━━━━━━━━━╇━━━━━━━━━━━━━━━━━━━╇━━━━━━━━━━━━╇━━━━━━━━━━━━━━━━━━━┩\n",
       "│ input_layer_10      │ (\u001b[38;5;45mNone\u001b[0m, \u001b[38;5;34m25\u001b[0m)        │          \u001b[38;5;34m0\u001b[0m │ -                 │\n",
       "│ (\u001b[38;5;33mInputLayer\u001b[0m)        │                   │            │                   │\n",
       "├─────────────────────┼───────────────────┼────────────┼───────────────────┤\n",
       "│ input_layer_11      │ (\u001b[38;5;45mNone\u001b[0m, \u001b[38;5;34m25\u001b[0m)        │          \u001b[38;5;34m0\u001b[0m │ -                 │\n",
       "│ (\u001b[38;5;33mInputLayer\u001b[0m)        │                   │            │                   │\n",
       "├─────────────────────┼───────────────────┼────────────┼───────────────────┤\n",
       "│ embedding_5         │ (\u001b[38;5;45mNone\u001b[0m, \u001b[38;5;34m25\u001b[0m, \u001b[38;5;34m50\u001b[0m)    │    \u001b[38;5;34m283,400\u001b[0m │ input_layer_10[\u001b[38;5;34m0\u001b[0m… │\n",
       "│ (\u001b[38;5;33mEmbedding\u001b[0m)         │                   │            │                   │\n",
       "├─────────────────────┼───────────────────┼────────────┼───────────────────┤\n",
       "│ embedding_6         │ (\u001b[38;5;45mNone\u001b[0m, \u001b[38;5;34m25\u001b[0m, \u001b[38;5;34m256\u001b[0m)   │  \u001b[38;5;34m3,037,952\u001b[0m │ input_layer_11[\u001b[38;5;34m0\u001b[0m… │\n",
       "│ (\u001b[38;5;33mEmbedding\u001b[0m)         │                   │            │                   │\n",
       "├─────────────────────┼───────────────────┼────────────┼───────────────────┤\n",
       "│ lstm_4 (\u001b[38;5;33mLSTM\u001b[0m)       │ [(\u001b[38;5;45mNone\u001b[0m, \u001b[38;5;34m256\u001b[0m),     │    \u001b[38;5;34m314,368\u001b[0m │ embedding_5[\u001b[38;5;34m0\u001b[0m][\u001b[38;5;34m0\u001b[0m] │\n",
       "│                     │ (\u001b[38;5;45mNone\u001b[0m, \u001b[38;5;34m256\u001b[0m),      │            │                   │\n",
       "│                     │ (\u001b[38;5;45mNone\u001b[0m, \u001b[38;5;34m256\u001b[0m)]      │            │                   │\n",
       "├─────────────────────┼───────────────────┼────────────┼───────────────────┤\n",
       "│ lstm_5 (\u001b[38;5;33mLSTM\u001b[0m)       │ [(\u001b[38;5;45mNone\u001b[0m, \u001b[38;5;34m25\u001b[0m, \u001b[38;5;34m256\u001b[0m), │    \u001b[38;5;34m525,312\u001b[0m │ embedding_6[\u001b[38;5;34m0\u001b[0m][\u001b[38;5;34m0\u001b[0m… │\n",
       "│                     │ (\u001b[38;5;45mNone\u001b[0m, \u001b[38;5;34m256\u001b[0m),      │            │ lstm_4[\u001b[38;5;34m0\u001b[0m][\u001b[38;5;34m1\u001b[0m],     │\n",
       "│                     │ (\u001b[38;5;45mNone\u001b[0m, \u001b[38;5;34m256\u001b[0m)]      │            │ lstm_4[\u001b[38;5;34m0\u001b[0m][\u001b[38;5;34m2\u001b[0m]      │\n",
       "├─────────────────────┼───────────────────┼────────────┼───────────────────┤\n",
       "│ dense_2 (\u001b[38;5;33mDense\u001b[0m)     │ (\u001b[38;5;45mNone\u001b[0m, \u001b[38;5;34m25\u001b[0m, \u001b[38;5;34m11867\u001b[0m) │  \u001b[38;5;34m3,049,819\u001b[0m │ lstm_5[\u001b[38;5;34m0\u001b[0m][\u001b[38;5;34m0\u001b[0m]      │\n",
       "└─────────────────────┴───────────────────┴────────────┴───────────────────┘\n"
      ]
     },
     "metadata": {},
     "output_type": "display_data"
    },
    {
     "data": {
      "text/html": [
       "<pre style=\"white-space:pre;overflow-x:auto;line-height:normal;font-family:Menlo,'DejaVu Sans Mono',consolas,'Courier New',monospace\"><span style=\"font-weight: bold\"> Total params: </span><span style=\"color: #00af00; text-decoration-color: #00af00\">7,210,851</span> (27.51 MB)\n",
       "</pre>\n"
      ],
      "text/plain": [
       "\u001b[1m Total params: \u001b[0m\u001b[38;5;34m7,210,851\u001b[0m (27.51 MB)\n"
      ]
     },
     "metadata": {},
     "output_type": "display_data"
    },
    {
     "data": {
      "text/html": [
       "<pre style=\"white-space:pre;overflow-x:auto;line-height:normal;font-family:Menlo,'DejaVu Sans Mono',consolas,'Courier New',monospace\"><span style=\"font-weight: bold\"> Trainable params: </span><span style=\"color: #00af00; text-decoration-color: #00af00\">7,210,851</span> (27.51 MB)\n",
       "</pre>\n"
      ],
      "text/plain": [
       "\u001b[1m Trainable params: \u001b[0m\u001b[38;5;34m7,210,851\u001b[0m (27.51 MB)\n"
      ]
     },
     "metadata": {},
     "output_type": "display_data"
    },
    {
     "data": {
      "text/html": [
       "<pre style=\"white-space:pre;overflow-x:auto;line-height:normal;font-family:Menlo,'DejaVu Sans Mono',consolas,'Courier New',monospace\"><span style=\"font-weight: bold\"> Non-trainable params: </span><span style=\"color: #00af00; text-decoration-color: #00af00\">0</span> (0.00 B)\n",
       "</pre>\n"
      ],
      "text/plain": [
       "\u001b[1m Non-trainable params: \u001b[0m\u001b[38;5;34m0\u001b[0m (0.00 B)\n"
      ]
     },
     "metadata": {},
     "output_type": "display_data"
    }
   ],
   "source": [
    "model = Model([encoder_inputs,decoder_inputs], decoder_outputs)\n",
    "model.compile(\n",
    "    optimizer='rmsprop',\n",
    "    loss='categorical_crossentropy',\n",
    "    metrics=['accuracy']\n",
    ")\n",
    "model.summary()\n"
   ]
  },
  {
   "cell_type": "code",
   "execution_count": null,
   "metadata": {},
   "outputs": [],
   "source": [
    "from keras.callbacks import EarlyStopping\n",
    "es = EarlyStopping(monitor='val_loss', mode='min', verbose=1)\n"
   ]
  },
  {
   "cell_type": "code",
   "execution_count": null,
   "metadata": {},
   "outputs": [
    {
     "name": "stdout",
     "output_type": "stream",
     "text": [
      "Epoch 1/20\n",
      "\u001b[1m83/83\u001b[0m \u001b[32m━━━━━━━━━━━━━━━━━━━━\u001b[0m\u001b[37m\u001b[0m \u001b[1m9s\u001b[0m 85ms/step - accuracy: 0.6571 - loss: 4.4083 - val_accuracy: 0.7055 - val_loss: 2.0440\n",
      "Epoch 2/20\n",
      "\u001b[1m83/83\u001b[0m \u001b[32m━━━━━━━━━━━━━━━━━━━━\u001b[0m\u001b[37m\u001b[0m \u001b[1m6s\u001b[0m 76ms/step - accuracy: 0.7066 - loss: 2.0068 - val_accuracy: 0.7097 - val_loss: 1.9907\n",
      "Epoch 3/20\n",
      "\u001b[1m83/83\u001b[0m \u001b[32m━━━━━━━━━━━━━━━━━━━━\u001b[0m\u001b[37m\u001b[0m \u001b[1m6s\u001b[0m 75ms/step - accuracy: 0.7120 - loss: 1.9528 - val_accuracy: 0.7102 - val_loss: 1.9676\n",
      "Epoch 4/20\n",
      "\u001b[1m83/83\u001b[0m \u001b[32m━━━━━━━━━━━━━━━━━━━━\u001b[0m\u001b[37m\u001b[0m \u001b[1m6s\u001b[0m 74ms/step - accuracy: 0.7219 - loss: 1.8786 - val_accuracy: 0.7202 - val_loss: 1.8438\n",
      "Epoch 5/20\n",
      "\u001b[1m83/83\u001b[0m \u001b[32m━━━━━━━━━━━━━━━━━━━━\u001b[0m\u001b[37m\u001b[0m \u001b[1m6s\u001b[0m 74ms/step - accuracy: 0.7217 - loss: 1.7782 - val_accuracy: 0.7216 - val_loss: 1.7694\n",
      "Epoch 6/20\n",
      "\u001b[1m83/83\u001b[0m \u001b[32m━━━━━━━━━━━━━━━━━━━━\u001b[0m\u001b[37m\u001b[0m \u001b[1m6s\u001b[0m 73ms/step - accuracy: 0.7282 - loss: 1.6767 - val_accuracy: 0.7309 - val_loss: 1.7207\n",
      "Epoch 7/20\n",
      "\u001b[1m83/83\u001b[0m \u001b[32m━━━━━━━━━━━━━━━━━━━━\u001b[0m\u001b[37m\u001b[0m \u001b[1m6s\u001b[0m 75ms/step - accuracy: 0.7354 - loss: 1.6336 - val_accuracy: 0.7483 - val_loss: 1.6702\n",
      "Epoch 8/20\n",
      "\u001b[1m83/83\u001b[0m \u001b[32m━━━━━━━━━━━━━━━━━━━━\u001b[0m\u001b[37m\u001b[0m \u001b[1m6s\u001b[0m 74ms/step - accuracy: 0.7535 - loss: 1.5857 - val_accuracy: 0.7694 - val_loss: 1.6201\n",
      "Epoch 9/20\n",
      "\u001b[1m83/83\u001b[0m \u001b[32m━━━━━━━━━━━━━━━━━━━━\u001b[0m\u001b[37m\u001b[0m \u001b[1m6s\u001b[0m 74ms/step - accuracy: 0.7716 - loss: 1.5253 - val_accuracy: 0.7815 - val_loss: 1.5613\n",
      "Epoch 10/20\n",
      "\u001b[1m83/83\u001b[0m \u001b[32m━━━━━━━━━━━━━━━━━━━━\u001b[0m\u001b[37m\u001b[0m \u001b[1m6s\u001b[0m 73ms/step - accuracy: 0.7861 - loss: 1.4617 - val_accuracy: 0.7967 - val_loss: 1.5102\n",
      "Epoch 11/20\n",
      "\u001b[1m83/83\u001b[0m \u001b[32m━━━━━━━━━━━━━━━━━━━━\u001b[0m\u001b[37m\u001b[0m \u001b[1m6s\u001b[0m 74ms/step - accuracy: 0.8017 - loss: 1.4072 - val_accuracy: 0.8133 - val_loss: 1.4532\n",
      "Epoch 12/20\n",
      "\u001b[1m83/83\u001b[0m \u001b[32m━━━━━━━━━━━━━━━━━━━━\u001b[0m\u001b[37m\u001b[0m \u001b[1m6s\u001b[0m 74ms/step - accuracy: 0.8161 - loss: 1.3397 - val_accuracy: 0.8208 - val_loss: 1.4071\n",
      "Epoch 13/20\n",
      "\u001b[1m83/83\u001b[0m \u001b[32m━━━━━━━━━━━━━━━━━━━━\u001b[0m\u001b[37m\u001b[0m \u001b[1m6s\u001b[0m 74ms/step - accuracy: 0.8233 - loss: 1.3051 - val_accuracy: 0.8263 - val_loss: 1.3687\n",
      "Epoch 14/20\n",
      "\u001b[1m83/83\u001b[0m \u001b[32m━━━━━━━━━━━━━━━━━━━━\u001b[0m\u001b[37m\u001b[0m \u001b[1m6s\u001b[0m 74ms/step - accuracy: 0.8291 - loss: 1.2642 - val_accuracy: 0.8316 - val_loss: 1.3364\n",
      "Epoch 15/20\n",
      "\u001b[1m83/83\u001b[0m \u001b[32m━━━━━━━━━━━━━━━━━━━━\u001b[0m\u001b[37m\u001b[0m \u001b[1m6s\u001b[0m 73ms/step - accuracy: 0.8332 - loss: 1.2344 - val_accuracy: 0.8349 - val_loss: 1.3089\n",
      "Epoch 16/20\n",
      "\u001b[1m83/83\u001b[0m \u001b[32m━━━━━━━━━━━━━━━━━━━━\u001b[0m\u001b[37m\u001b[0m \u001b[1m6s\u001b[0m 75ms/step - accuracy: 0.8383 - loss: 1.1907 - val_accuracy: 0.8376 - val_loss: 1.2865\n",
      "Epoch 17/20\n",
      "\u001b[1m83/83\u001b[0m \u001b[32m━━━━━━━━━━━━━━━━━━━━\u001b[0m\u001b[37m\u001b[0m \u001b[1m6s\u001b[0m 75ms/step - accuracy: 0.8414 - loss: 1.1673 - val_accuracy: 0.8422 - val_loss: 1.2624\n",
      "Epoch 18/20\n",
      "\u001b[1m83/83\u001b[0m \u001b[32m━━━━━━━━━━━━━━━━━━━━\u001b[0m\u001b[37m\u001b[0m \u001b[1m6s\u001b[0m 74ms/step - accuracy: 0.8456 - loss: 1.1398 - val_accuracy: 0.8455 - val_loss: 1.2461\n",
      "Epoch 19/20\n",
      "\u001b[1m83/83\u001b[0m \u001b[32m━━━━━━━━━━━━━━━━━━━━\u001b[0m\u001b[37m\u001b[0m \u001b[1m6s\u001b[0m 75ms/step - accuracy: 0.8482 - loss: 1.1258 - val_accuracy: 0.8483 - val_loss: 1.2251\n",
      "Epoch 20/20\n",
      "\u001b[1m83/83\u001b[0m \u001b[32m━━━━━━━━━━━━━━━━━━━━\u001b[0m\u001b[37m\u001b[0m \u001b[1m6s\u001b[0m 75ms/step - accuracy: 0.8499 - loss: 1.1125 - val_accuracy: 0.8515 - val_loss: 1.2079\n"
     ]
    }
   ],
   "source": [
    "history = model.fit([encoder_input_sequences, decoder_input_sequences], decoder_targets_one_hot,\n",
    "    batch_size=BATCH_SIZE,\n",
    "    epochs=20,\n",
    "    callbacks=[es],\n",
    "    validation_split=0.1,\n",
    ")\n"
   ]
  },
  {
   "cell_type": "code",
   "execution_count": null,
   "metadata": {},
   "outputs": [
    {
     "name": "stderr",
     "output_type": "stream",
     "text": [
      "WARNING:absl:You are saving your model as an HDF5 file via `model.save()` or `keras.saving.save_model(model)`. This file format is considered legacy. We recommend using instead the native Keras format, e.g. `model.save('my_model.keras')` or `keras.saving.save_model(model, 'my_model.keras')`. \n"
     ]
    }
   ],
   "source": [
    "model.save('seq2seq_eng-fra.h5')"
   ]
  },
  {
   "cell_type": "code",
   "execution_count": null,
   "metadata": {},
   "outputs": [
    {
     "data": {
      "image/png": "[encoded data removed]",
      "text/plain": [
       "<Figure size 640x480 with 1 Axes>"
      ]
     },
     "metadata": {},
     "output_type": "display_data"
    }
   ],
   "source": [
    "import matplotlib.pyplot as plt\n",
    "# %matplotlib inline\n",
    "plt.title('Model Loss')\n",
    "plt.plot(history.history['loss'])\n",
    "plt.plot(history.history['val_loss'])\n",
    "plt.ylabel('loss')\n",
    "plt.xlabel('epoch')\n",
    "plt.legend(['train', 'test'], loc='upper left')\n",
    "plt.show()\n"
   ]
  },
  {
   "cell_type": "code",
   "execution_count": null,
   "metadata": {},
   "outputs": [],
   "source": [
    "encoder_model = Model(encoder_inputs, encoder_states)\n",
    "model.compile(optimizer='rmsprop', loss='categorical_crossentropy')\n",
    "model.load_weights('seq2seq_eng-fra.h5')\n"
   ]
  },
  {
   "cell_type": "code",
   "execution_count": null,
   "metadata": {},
   "outputs": [],
   "source": [
    "decoder_state_input_h = Input(shape=(LSTM_NODES,))\n",
    "decoder_state_input_c = Input(shape=(LSTM_NODES,))\n",
    "decoder_states_inputs = [decoder_state_input_h, decoder_state_input_c]\n",
    "\n",
    "decoder_inputs_single = Input(shape=(1,))\n",
    "decoder_inputs_single_x = decoder_embedding(decoder_inputs_single)\n"
   ]
  },
  {
   "cell_type": "code",
   "execution_count": null,
   "metadata": {},
   "outputs": [],
   "source": [
    "decoder_outputs, h, c = decoder_lstm(decoder_inputs_single_x, initial_state=decoder_states_inputs)\n"
   ]
  },
  {
   "cell_type": "code",
   "execution_count": null,
   "metadata": {},
   "outputs": [],
   "source": [
    "decoder_states = [h, c]\n",
    "decoder_outputs = decoder_dense(decoder_outputs)\n"
   ]
  },
  {
   "cell_type": "code",
   "execution_count": null,
   "metadata": {},
   "outputs": [],
   "source": [
    "decoder_model = Model(\n",
    "    [decoder_inputs_single] + decoder_states_inputs,\n",
    "    [decoder_outputs] + decoder_states\n",
    ")\n"
   ]
  },
  {
   "cell_type": "code",
   "execution_count": null,
   "metadata": {},
   "outputs": [],
   "source": [
    "idx2word_input = {v:k for k, v in word2idx_inputs.items()}\n",
    "idx2word_target = {v:k for k, v in word2idx_outputs.items()}\n"
   ]
  },
  {
   "cell_type": "code",
   "execution_count": null,
   "metadata": {},
   "outputs": [],
   "source": [
    "def translate_sentence(input_seq):\n",
    "    states_value = encoder_model.predict(input_seq)\n",
    "    target_seq = np.zeros((1, 1))\n",
    "    target_seq[0, 0] = word2idx_outputs['<eos>']\n",
    "    eos = word2idx_outputs['<eos>']\n",
    "    output_sentence = []\n",
    "\n",
    "    for _ in range(max_out_len):\n",
    "        output_tokens, h, c = decoder_model.predict([target_seq] + states_value)\n",
    "        idx = np.argmax(output_tokens[0, 0, :])\n",
    "\n",
    "        if eos == idx:\n",
    "            break\n",
    "\n",
    "        word = ''\n",
    "\n",
    "        if idx > 0:\n",
    "            word = idx2word_target[idx]\n",
    "            output_sentence.append(word)\n",
    "\n",
    "        target_seq[0, 0] = idx\n",
    "        states_value = [h, c]\n",
    "\n",
    "    return ' '.join(output_sentence)\n"
   ]
  },
  {
   "cell_type": "code",
   "execution_count": null,
   "metadata": {},
   "outputs": [
    {
     "name": "stdout",
     "output_type": "stream",
     "text": [
      "\u001b[1m1/1\u001b[0m \u001b[32m━━━━━━━━━━━━━━━━━━━━\u001b[0m\u001b[37m\u001b[0m \u001b[1m0s\u001b[0m 29ms/step\n",
      "\u001b[1m1/1\u001b[0m \u001b[32m━━━━━━━━━━━━━━━━━━━━\u001b[0m\u001b[37m\u001b[0m \u001b[1m0s\u001b[0m 53ms/step\n",
      "Input Language :  of inviting the television program 60 minutes ii into their house  <eos>  <eos>  <eos>  <eos>  <eos>  <eos>  <eos>  <eos>  <eos>  <eos>  <eos>  <eos>  <eos>  <eos>\n",
      "Actual translation :  家 に 招待 し て マーラ が 絵 を 描く ところ を 撮影 さ せる と いう  <eos>  <eos>  <eos>  <eos>  <eos>  <eos>  <eos>  <eos>\n",
      "French translation :  \n"
     ]
    }
   ],
   "source": [
    "i = np.random.choice(len(train_data['eng']))\n",
    "input_seq = encoder_input_sequences[i:i+1]\n",
    "translation = translate_sentence(input_seq)\n",
    "print('Input Language : ', train_data['eng'][i])\n",
    "print('Actual translation : ', train_data['jpn'][i])\n",
    "print('French translation : ', translation)\n"
   ]
  }
 ],
 "metadata": {
  "kernelspec": {
   "display_name": "Python 3 (ipykernel)",
   "language": "python",
   "name": "python3"
  },
  "language_info": {
   "codemirror_mode": {
    "name": "ipython",
    "version": 3
   },
   "file_extension": ".py",
   "mimetype": "text/x-python",
   "name": "python",
   "nbconvert_exporter": "python",
   "pygments_lexer": "ipython3",
   "version": "3.11.9"
  }
 },
 "nbformat": 4,
 "nbformat_minor": 2
}
